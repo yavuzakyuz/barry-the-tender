{
 "cells": [
  {
   "metadata": {},
   "cell_type": "markdown",
   "source": "# A User Perception sub-system.",
   "id": "c8b21256bad97103"
  },
  {
   "metadata": {},
   "cell_type": "markdown",
   "source": "The aim of this sub-system is to acquire input from a webcam in real time, of a human user or a group of users interacting with Furhat, and to automatically detect their affective states. The basic requirements for this sub-system are to: (i) automatically extract facial features (e.g. Action Units) from the video input using the tools you have learned in the course (e.g., Py-Feat), and (ii) use Machine Learning (ML) techniques to process the features into a high-level representation of the user’s behaviour (i.e., affective states: valence or arousal, or both) that can be used by the second sub-system. You are free to choose which facial features to extract, which ML techniques to apply, which affective state to model, and whether to automatically detect the affective state of one user or a group of users. In order to train the ML model for the automatic detection of affective states, you may use any dataset that you find but we will only provide the MultiEmoVA dataset (if you choose to automatically detect the affective state of a group of users in your scenario) or the DiffusionFER dataset (if you choose to automatically detect the affective state of one single user in your scenario). Regardless of your choice of dataset, you will need to extract your own features. Images and labels for these datasets will be made available in Studium.",
   "id": "d388d3b1cef4a2de"
  },
  {
   "metadata": {
    "ExecuteTime": {
     "end_time": "2024-12-09T17:35:55.012541Z",
     "start_time": "2024-12-09T17:35:46.925570Z"
    }
   },
   "cell_type": "code",
   "source": [
    "import cv2\n",
    "from feat import Detector\n",
    "import opencv_jupyter_ui as jcv2\n",
    "import torch\n",
    "import os\n",
    "import pandas as pd\n",
    "\n",
    "import logging, sys\n",
    "logging.disable(sys.maxsize)"
   ],
   "id": "2a755a193554da10",
   "outputs": [
    {
     "name": "stderr",
     "output_type": "stream",
     "text": [
      "C:\\Python310\\lib\\site-packages\\kornia\\feature\\lightglue.py:44: FutureWarning: `torch.cuda.amp.custom_fwd(args...)` is deprecated. Please use `torch.amp.custom_fwd(args..., device_type='cuda')` instead.\n",
      "  @torch.cuda.amp.custom_fwd(cast_inputs=torch.float32)\n"
     ]
    }
   ],
   "execution_count": 1
  },
  {
   "metadata": {
    "ExecuteTime": {
     "end_time": "2024-12-09T16:38:03.710911Z",
     "start_time": "2024-12-09T16:38:03.706583Z"
    }
   },
   "cell_type": "code",
   "source": "torch.xpu.is_available()",
   "id": "64dc984a375dadb0",
   "outputs": [
    {
     "data": {
      "text/plain": [
       "False"
      ]
     },
     "execution_count": 2,
     "metadata": {},
     "output_type": "execute_result"
    }
   ],
   "execution_count": 2
  },
  {
   "metadata": {},
   "cell_type": "markdown",
   "source": "# 1. Load and analyze data from DiffusionFER dataset",
   "id": "c7ed426da81847b3"
  },
  {
   "metadata": {
    "ExecuteTime": {
     "end_time": "2024-12-09T17:36:01.780087Z",
     "start_time": "2024-12-09T17:35:57.064872Z"
    }
   },
   "cell_type": "code",
   "source": "detector = Detector(device='cuda' if torch.cuda.is_available() else 'cpu')",
   "id": "21de49d57e4abdd1",
   "outputs": [
    {
     "name": "stderr",
     "output_type": "stream",
     "text": [
      "C:\\Python310\\lib\\site-packages\\feat\\face_detectors\\Retinaface\\Retinaface_test.py:70: FutureWarning: You are using `torch.load` with `weights_only=False` (the current default value), which uses the default pickle module implicitly. It is possible to construct malicious pickle data which will execute arbitrary code during unpickling (See https://github.com/pytorch/pytorch/blob/main/SECURITY.md#untrusted-models for more details). In a future release, the default value for `weights_only` will be flipped to `True`. This limits the functions that could be executed during unpickling. Arbitrary objects will no longer be allowed to be loaded via this mode unless they are explicitly allowlisted by the user via `torch.serialization.add_safe_globals`. We recommend you start setting `weights_only=True` for any use case where you don't have full control of the loaded file. Please open an issue on GitHub for any issues related to this experimental feature.\n",
      "  pretrained_dict = torch.load(\n",
      "C:\\Python310\\lib\\site-packages\\feat\\detector.py:224: FutureWarning: You are using `torch.load` with `weights_only=False` (the current default value), which uses the default pickle module implicitly. It is possible to construct malicious pickle data which will execute arbitrary code during unpickling (See https://github.com/pytorch/pytorch/blob/main/SECURITY.md#untrusted-models for more details). In a future release, the default value for `weights_only` will be flipped to `True`. This limits the functions that could be executed during unpickling. Arbitrary objects will no longer be allowed to be loaded via this mode unless they are explicitly allowlisted by the user via `torch.serialization.add_safe_globals`. We recommend you start setting `weights_only=True` for any use case where you don't have full control of the loaded file. Please open an issue on GitHub for any issues related to this experimental feature.\n",
      "  checkpoint = torch.load(\n",
      "C:\\Python310\\lib\\site-packages\\feat\\facepose_detectors\\img2pose\\img2pose_test.py:105: FutureWarning: You are using `torch.load` with `weights_only=False` (the current default value), which uses the default pickle module implicitly. It is possible to construct malicious pickle data which will execute arbitrary code during unpickling (See https://github.com/pytorch/pytorch/blob/main/SECURITY.md#untrusted-models for more details). In a future release, the default value for `weights_only` will be flipped to `True`. This limits the functions that could be executed during unpickling. Arbitrary objects will no longer be allowed to be loaded via this mode unless they are explicitly allowlisted by the user via `torch.serialization.add_safe_globals`. We recommend you start setting `weights_only=True` for any use case where you don't have full control of the loaded file. Please open an issue on GitHub for any issues related to this experimental feature.\n",
      "  checkpoint = torch.load(model_path, map_location=self.device)\n",
      "C:\\Python310\\lib\\site-packages\\feat\\emo_detectors\\ResMaskNet\\resmasknet_test.py:718: FutureWarning: You are using `torch.load` with `weights_only=False` (the current default value), which uses the default pickle module implicitly. It is possible to construct malicious pickle data which will execute arbitrary code during unpickling (See https://github.com/pytorch/pytorch/blob/main/SECURITY.md#untrusted-models for more details). In a future release, the default value for `weights_only` will be flipped to `True`. This limits the functions that could be executed during unpickling. Arbitrary objects will no longer be allowed to be loaded via this mode unless they are explicitly allowlisted by the user via `torch.serialization.add_safe_globals`. We recommend you start setting `weights_only=True` for any use case where you don't have full control of the loaded file. Please open an issue on GitHub for any issues related to this experimental feature.\n",
      "  torch.load(\n"
     ]
    }
   ],
   "execution_count": 2
  },
  {
   "metadata": {
    "ExecuteTime": {
     "end_time": "2024-12-09T17:36:01.811106Z",
     "start_time": "2024-12-09T17:36:01.794094Z"
    }
   },
   "cell_type": "code",
   "source": [
    "emotion = {\n",
    "    \"angry\": 0,\n",
    "    \"disgust\": 1,\n",
    "    \"fear\": 2,\n",
    "    \"happy\": 3,\n",
    "    \"sad\": 4,\n",
    "    \"surprise\": 5,\n",
    "    \"neutral\": 6\n",
    "}"
   ],
   "id": "ebcd302f88c9efd4",
   "outputs": [],
   "execution_count": 3
  },
  {
   "metadata": {
    "ExecuteTime": {
     "end_time": "2024-12-09T17:36:01.874669Z",
     "start_time": "2024-12-09T17:36:01.861677Z"
    }
   },
   "cell_type": "code",
   "source": [
    "class image_data:\n",
    "    def __init__(self, path:str, real_emotion:str):\n",
    "        self.path = path\n",
    "        self.name = os.path.basename(path)\n",
    "        self.image = cv2.imread(self.path)\n",
    "        self.face = detector.detect_faces(self.image)\n",
    "        self.landmark = detector.detect_landmarks(self.image, self.face)\n",
    "#        self.emotion = detector.detect_emotions(self.image, self.face, self.landmark)\n",
    "        self.au = detector.detect_aus(self.image, self.landmark)\n",
    "#        self.processed = self.image\n",
    "        self.real_emotion = real_emotion"
   ],
   "id": "39111c2f3cdaf371",
   "outputs": [],
   "execution_count": 4
  },
  {
   "metadata": {
    "ExecuteTime": {
     "end_time": "2024-12-09T16:38:11.795544Z",
     "start_time": "2024-12-09T16:38:05.687665Z"
    }
   },
   "cell_type": "code",
   "source": [
    "# read data\n",
    "data = []\n",
    "for em in emotion:\n",
    "    path = os.path.join('./DiffusionFER/DiffusionEmotion_S/cropped/', em)\n",
    "\n",
    "    files = os.listdir(path)\n",
    "    files_abs = [os.path.abspath(os.path.join(path, file)) for file in files]\n",
    "    data.append([image_data(name, em) for name in files_abs])\n",
    "    print(f\"Dataset {em} loaded!\")"
   ],
   "id": "cb384855f977749a",
   "outputs": [
    {
     "ename": "KeyboardInterrupt",
     "evalue": "",
     "output_type": "error",
     "traceback": [
      "\u001B[0;31m---------------------------------------------------------------------------\u001B[0m",
      "\u001B[0;31mKeyboardInterrupt\u001B[0m                         Traceback (most recent call last)",
      "Cell \u001B[0;32mIn[6], line 8\u001B[0m\n\u001B[1;32m      6\u001B[0m files \u001B[38;5;241m=\u001B[39m os\u001B[38;5;241m.\u001B[39mlistdir(path)\n\u001B[1;32m      7\u001B[0m files_abs \u001B[38;5;241m=\u001B[39m [os\u001B[38;5;241m.\u001B[39mpath\u001B[38;5;241m.\u001B[39mabspath(os\u001B[38;5;241m.\u001B[39mpath\u001B[38;5;241m.\u001B[39mjoin(path, file)) \u001B[38;5;28;01mfor\u001B[39;00m file \u001B[38;5;129;01min\u001B[39;00m files]\n\u001B[0;32m----> 8\u001B[0m data\u001B[38;5;241m.\u001B[39mappend([\u001B[43mimage_data\u001B[49m\u001B[43m(\u001B[49m\u001B[43mname\u001B[49m\u001B[43m,\u001B[49m\u001B[43m \u001B[49m\u001B[43mem\u001B[49m\u001B[43m)\u001B[49m \u001B[38;5;28;01mfor\u001B[39;00m name \u001B[38;5;129;01min\u001B[39;00m files_abs])\n\u001B[1;32m      9\u001B[0m \u001B[38;5;28mprint\u001B[39m(\u001B[38;5;124mf\u001B[39m\u001B[38;5;124m\"\u001B[39m\u001B[38;5;124mDataset \u001B[39m\u001B[38;5;132;01m{\u001B[39;00mem\u001B[38;5;132;01m}\u001B[39;00m\u001B[38;5;124m loaded!\u001B[39m\u001B[38;5;124m\"\u001B[39m)\n",
      "Cell \u001B[0;32mIn[5], line 7\u001B[0m, in \u001B[0;36mimage_data.__init__\u001B[0;34m(self, path, real_emotion)\u001B[0m\n\u001B[1;32m      5\u001B[0m         \u001B[38;5;28mself\u001B[39m\u001B[38;5;241m.\u001B[39mimage \u001B[38;5;241m=\u001B[39m cv2\u001B[38;5;241m.\u001B[39mimread(\u001B[38;5;28mself\u001B[39m\u001B[38;5;241m.\u001B[39mpath)\n\u001B[1;32m      6\u001B[0m         \u001B[38;5;28mself\u001B[39m\u001B[38;5;241m.\u001B[39mface \u001B[38;5;241m=\u001B[39m detector\u001B[38;5;241m.\u001B[39mdetect_faces(\u001B[38;5;28mself\u001B[39m\u001B[38;5;241m.\u001B[39mimage)\n\u001B[0;32m----> 7\u001B[0m         \u001B[38;5;28mself\u001B[39m\u001B[38;5;241m.\u001B[39mlandmark \u001B[38;5;241m=\u001B[39m \u001B[43mdetector\u001B[49m\u001B[38;5;241;43m.\u001B[39;49m\u001B[43mdetect_landmarks\u001B[49m\u001B[43m(\u001B[49m\u001B[38;5;28;43mself\u001B[39;49m\u001B[38;5;241;43m.\u001B[39;49m\u001B[43mimage\u001B[49m\u001B[43m,\u001B[49m\u001B[43m \u001B[49m\u001B[38;5;28;43mself\u001B[39;49m\u001B[38;5;241;43m.\u001B[39;49m\u001B[43mface\u001B[49m\u001B[43m)\u001B[49m\n\u001B[1;32m      8\u001B[0m \u001B[38;5;66;03m#        self.emotion = detector.detect_emotions(self.image, self.face, self.landmark)\u001B[39;00m\n\u001B[1;32m      9\u001B[0m         \u001B[38;5;28mself\u001B[39m\u001B[38;5;241m.\u001B[39mau \u001B[38;5;241m=\u001B[39m detector\u001B[38;5;241m.\u001B[39mdetect_aus(\u001B[38;5;28mself\u001B[39m\u001B[38;5;241m.\u001B[39mimage, \u001B[38;5;28mself\u001B[39m\u001B[38;5;241m.\u001B[39mlandmark)\n",
      "File \u001B[0;32m~/.pyenv/versions/iis/lib/python3.12/site-packages/feat/detector.py:473\u001B[0m, in \u001B[0;36mDetector.detect_landmarks\u001B[0;34m(self, frame, detected_faces, **landmark_model_kwargs)\u001B[0m\n\u001B[1;32m    470\u001B[0m \u001B[38;5;66;03m# Run Landmark Model\u001B[39;00m\n\u001B[1;32m    471\u001B[0m \u001B[38;5;28;01mif\u001B[39;00m \u001B[38;5;28mself\u001B[39m\u001B[38;5;241m.\u001B[39minfo[\u001B[38;5;124m\"\u001B[39m\u001B[38;5;124mlandmark_model\u001B[39m\u001B[38;5;124m\"\u001B[39m]\u001B[38;5;241m.\u001B[39mlower() \u001B[38;5;241m==\u001B[39m \u001B[38;5;124m\"\u001B[39m\u001B[38;5;124mmobilefacenet\u001B[39m\u001B[38;5;124m\"\u001B[39m:\n\u001B[1;32m    472\u001B[0m     landmark \u001B[38;5;241m=\u001B[39m (\n\u001B[0;32m--> 473\u001B[0m         \u001B[38;5;28;43mself\u001B[39;49m\u001B[38;5;241;43m.\u001B[39;49m\u001B[43mlandmark_detector\u001B[49m\u001B[43m(\u001B[49m\u001B[43mextracted_faces\u001B[49m\u001B[43m,\u001B[49m\u001B[43m \u001B[49m\u001B[38;5;241;43m*\u001B[39;49m\u001B[38;5;241;43m*\u001B[39;49m\u001B[43mlandmark_model_kwargs\u001B[49m\u001B[43m)\u001B[49m[\u001B[38;5;241m0\u001B[39m]\n\u001B[1;32m    474\u001B[0m         \u001B[38;5;241m.\u001B[39mcpu()\n\u001B[1;32m    475\u001B[0m         \u001B[38;5;241m.\u001B[39mdata\u001B[38;5;241m.\u001B[39mnumpy()\n\u001B[1;32m    476\u001B[0m     )\n\u001B[1;32m    477\u001B[0m \u001B[38;5;28;01melse\u001B[39;00m:\n\u001B[1;32m    478\u001B[0m     landmark \u001B[38;5;241m=\u001B[39m (\n\u001B[1;32m    479\u001B[0m         \u001B[38;5;28mself\u001B[39m\u001B[38;5;241m.\u001B[39mlandmark_detector(extracted_faces, \u001B[38;5;241m*\u001B[39m\u001B[38;5;241m*\u001B[39mlandmark_model_kwargs)\n\u001B[1;32m    480\u001B[0m         \u001B[38;5;241m.\u001B[39mcpu()\n\u001B[1;32m    481\u001B[0m         \u001B[38;5;241m.\u001B[39mdata\u001B[38;5;241m.\u001B[39mnumpy()\n\u001B[1;32m    482\u001B[0m     )\n",
      "File \u001B[0;32m~/.pyenv/versions/iis/lib/python3.12/site-packages/torch/nn/modules/module.py:1553\u001B[0m, in \u001B[0;36mModule._wrapped_call_impl\u001B[0;34m(self, *args, **kwargs)\u001B[0m\n\u001B[1;32m   1551\u001B[0m     \u001B[38;5;28;01mreturn\u001B[39;00m \u001B[38;5;28mself\u001B[39m\u001B[38;5;241m.\u001B[39m_compiled_call_impl(\u001B[38;5;241m*\u001B[39margs, \u001B[38;5;241m*\u001B[39m\u001B[38;5;241m*\u001B[39mkwargs)  \u001B[38;5;66;03m# type: ignore[misc]\u001B[39;00m\n\u001B[1;32m   1552\u001B[0m \u001B[38;5;28;01melse\u001B[39;00m:\n\u001B[0;32m-> 1553\u001B[0m     \u001B[38;5;28;01mreturn\u001B[39;00m \u001B[38;5;28;43mself\u001B[39;49m\u001B[38;5;241;43m.\u001B[39;49m\u001B[43m_call_impl\u001B[49m\u001B[43m(\u001B[49m\u001B[38;5;241;43m*\u001B[39;49m\u001B[43margs\u001B[49m\u001B[43m,\u001B[49m\u001B[43m \u001B[49m\u001B[38;5;241;43m*\u001B[39;49m\u001B[38;5;241;43m*\u001B[39;49m\u001B[43mkwargs\u001B[49m\u001B[43m)\u001B[49m\n",
      "File \u001B[0;32m~/.pyenv/versions/iis/lib/python3.12/site-packages/torch/nn/modules/module.py:1562\u001B[0m, in \u001B[0;36mModule._call_impl\u001B[0;34m(self, *args, **kwargs)\u001B[0m\n\u001B[1;32m   1557\u001B[0m \u001B[38;5;66;03m# If we don't have any hooks, we want to skip the rest of the logic in\u001B[39;00m\n\u001B[1;32m   1558\u001B[0m \u001B[38;5;66;03m# this function, and just call forward.\u001B[39;00m\n\u001B[1;32m   1559\u001B[0m \u001B[38;5;28;01mif\u001B[39;00m \u001B[38;5;129;01mnot\u001B[39;00m (\u001B[38;5;28mself\u001B[39m\u001B[38;5;241m.\u001B[39m_backward_hooks \u001B[38;5;129;01mor\u001B[39;00m \u001B[38;5;28mself\u001B[39m\u001B[38;5;241m.\u001B[39m_backward_pre_hooks \u001B[38;5;129;01mor\u001B[39;00m \u001B[38;5;28mself\u001B[39m\u001B[38;5;241m.\u001B[39m_forward_hooks \u001B[38;5;129;01mor\u001B[39;00m \u001B[38;5;28mself\u001B[39m\u001B[38;5;241m.\u001B[39m_forward_pre_hooks\n\u001B[1;32m   1560\u001B[0m         \u001B[38;5;129;01mor\u001B[39;00m _global_backward_pre_hooks \u001B[38;5;129;01mor\u001B[39;00m _global_backward_hooks\n\u001B[1;32m   1561\u001B[0m         \u001B[38;5;129;01mor\u001B[39;00m _global_forward_hooks \u001B[38;5;129;01mor\u001B[39;00m _global_forward_pre_hooks):\n\u001B[0;32m-> 1562\u001B[0m     \u001B[38;5;28;01mreturn\u001B[39;00m \u001B[43mforward_call\u001B[49m\u001B[43m(\u001B[49m\u001B[38;5;241;43m*\u001B[39;49m\u001B[43margs\u001B[49m\u001B[43m,\u001B[49m\u001B[43m \u001B[49m\u001B[38;5;241;43m*\u001B[39;49m\u001B[38;5;241;43m*\u001B[39;49m\u001B[43mkwargs\u001B[49m\u001B[43m)\u001B[49m\n\u001B[1;32m   1564\u001B[0m \u001B[38;5;28;01mtry\u001B[39;00m:\n\u001B[1;32m   1565\u001B[0m     result \u001B[38;5;241m=\u001B[39m \u001B[38;5;28;01mNone\u001B[39;00m\n",
      "File \u001B[0;32m~/.pyenv/versions/iis/lib/python3.12/site-packages/feat/landmark_detectors/mobilefacenet_test.py:242\u001B[0m, in \u001B[0;36mMobileFaceNet.forward\u001B[0;34m(self, x)\u001B[0m\n\u001B[1;32m    238\u001B[0m out \u001B[38;5;241m=\u001B[39m \u001B[38;5;28mself\u001B[39m\u001B[38;5;241m.\u001B[39mconv_3(out)\n\u001B[1;32m    240\u001B[0m out \u001B[38;5;241m=\u001B[39m \u001B[38;5;28mself\u001B[39m\u001B[38;5;241m.\u001B[39mconv_34(out)\n\u001B[0;32m--> 242\u001B[0m out \u001B[38;5;241m=\u001B[39m \u001B[38;5;28;43mself\u001B[39;49m\u001B[38;5;241;43m.\u001B[39;49m\u001B[43mconv_4\u001B[49m\u001B[43m(\u001B[49m\u001B[43mout\u001B[49m\u001B[43m)\u001B[49m\n\u001B[1;32m    244\u001B[0m out \u001B[38;5;241m=\u001B[39m \u001B[38;5;28mself\u001B[39m\u001B[38;5;241m.\u001B[39mconv_45(out)\n\u001B[1;32m    246\u001B[0m out \u001B[38;5;241m=\u001B[39m \u001B[38;5;28mself\u001B[39m\u001B[38;5;241m.\u001B[39mconv_5(out)\n",
      "File \u001B[0;32m~/.pyenv/versions/iis/lib/python3.12/site-packages/torch/nn/modules/module.py:1553\u001B[0m, in \u001B[0;36mModule._wrapped_call_impl\u001B[0;34m(self, *args, **kwargs)\u001B[0m\n\u001B[1;32m   1551\u001B[0m     \u001B[38;5;28;01mreturn\u001B[39;00m \u001B[38;5;28mself\u001B[39m\u001B[38;5;241m.\u001B[39m_compiled_call_impl(\u001B[38;5;241m*\u001B[39margs, \u001B[38;5;241m*\u001B[39m\u001B[38;5;241m*\u001B[39mkwargs)  \u001B[38;5;66;03m# type: ignore[misc]\u001B[39;00m\n\u001B[1;32m   1552\u001B[0m \u001B[38;5;28;01melse\u001B[39;00m:\n\u001B[0;32m-> 1553\u001B[0m     \u001B[38;5;28;01mreturn\u001B[39;00m \u001B[38;5;28;43mself\u001B[39;49m\u001B[38;5;241;43m.\u001B[39;49m\u001B[43m_call_impl\u001B[49m\u001B[43m(\u001B[49m\u001B[38;5;241;43m*\u001B[39;49m\u001B[43margs\u001B[49m\u001B[43m,\u001B[49m\u001B[43m \u001B[49m\u001B[38;5;241;43m*\u001B[39;49m\u001B[38;5;241;43m*\u001B[39;49m\u001B[43mkwargs\u001B[49m\u001B[43m)\u001B[49m\n",
      "File \u001B[0;32m~/.pyenv/versions/iis/lib/python3.12/site-packages/torch/nn/modules/module.py:1562\u001B[0m, in \u001B[0;36mModule._call_impl\u001B[0;34m(self, *args, **kwargs)\u001B[0m\n\u001B[1;32m   1557\u001B[0m \u001B[38;5;66;03m# If we don't have any hooks, we want to skip the rest of the logic in\u001B[39;00m\n\u001B[1;32m   1558\u001B[0m \u001B[38;5;66;03m# this function, and just call forward.\u001B[39;00m\n\u001B[1;32m   1559\u001B[0m \u001B[38;5;28;01mif\u001B[39;00m \u001B[38;5;129;01mnot\u001B[39;00m (\u001B[38;5;28mself\u001B[39m\u001B[38;5;241m.\u001B[39m_backward_hooks \u001B[38;5;129;01mor\u001B[39;00m \u001B[38;5;28mself\u001B[39m\u001B[38;5;241m.\u001B[39m_backward_pre_hooks \u001B[38;5;129;01mor\u001B[39;00m \u001B[38;5;28mself\u001B[39m\u001B[38;5;241m.\u001B[39m_forward_hooks \u001B[38;5;129;01mor\u001B[39;00m \u001B[38;5;28mself\u001B[39m\u001B[38;5;241m.\u001B[39m_forward_pre_hooks\n\u001B[1;32m   1560\u001B[0m         \u001B[38;5;129;01mor\u001B[39;00m _global_backward_pre_hooks \u001B[38;5;129;01mor\u001B[39;00m _global_backward_hooks\n\u001B[1;32m   1561\u001B[0m         \u001B[38;5;129;01mor\u001B[39;00m _global_forward_hooks \u001B[38;5;129;01mor\u001B[39;00m _global_forward_pre_hooks):\n\u001B[0;32m-> 1562\u001B[0m     \u001B[38;5;28;01mreturn\u001B[39;00m \u001B[43mforward_call\u001B[49m\u001B[43m(\u001B[49m\u001B[38;5;241;43m*\u001B[39;49m\u001B[43margs\u001B[49m\u001B[43m,\u001B[49m\u001B[43m \u001B[49m\u001B[38;5;241;43m*\u001B[39;49m\u001B[38;5;241;43m*\u001B[39;49m\u001B[43mkwargs\u001B[49m\u001B[43m)\u001B[49m\n\u001B[1;32m   1564\u001B[0m \u001B[38;5;28;01mtry\u001B[39;00m:\n\u001B[1;32m   1565\u001B[0m     result \u001B[38;5;241m=\u001B[39m \u001B[38;5;28;01mNone\u001B[39;00m\n",
      "File \u001B[0;32m~/.pyenv/versions/iis/lib/python3.12/site-packages/feat/landmark_detectors/mobilefacenet_test.py:137\u001B[0m, in \u001B[0;36mResidual.forward\u001B[0;34m(self, x)\u001B[0m\n\u001B[1;32m    136\u001B[0m \u001B[38;5;28;01mdef\u001B[39;00m \u001B[38;5;21mforward\u001B[39m(\u001B[38;5;28mself\u001B[39m, x):\n\u001B[0;32m--> 137\u001B[0m     \u001B[38;5;28;01mreturn\u001B[39;00m \u001B[38;5;28;43mself\u001B[39;49m\u001B[38;5;241;43m.\u001B[39;49m\u001B[43mmodel\u001B[49m\u001B[43m(\u001B[49m\u001B[43mx\u001B[49m\u001B[43m)\u001B[49m\n",
      "File \u001B[0;32m~/.pyenv/versions/iis/lib/python3.12/site-packages/torch/nn/modules/module.py:1553\u001B[0m, in \u001B[0;36mModule._wrapped_call_impl\u001B[0;34m(self, *args, **kwargs)\u001B[0m\n\u001B[1;32m   1551\u001B[0m     \u001B[38;5;28;01mreturn\u001B[39;00m \u001B[38;5;28mself\u001B[39m\u001B[38;5;241m.\u001B[39m_compiled_call_impl(\u001B[38;5;241m*\u001B[39margs, \u001B[38;5;241m*\u001B[39m\u001B[38;5;241m*\u001B[39mkwargs)  \u001B[38;5;66;03m# type: ignore[misc]\u001B[39;00m\n\u001B[1;32m   1552\u001B[0m \u001B[38;5;28;01melse\u001B[39;00m:\n\u001B[0;32m-> 1553\u001B[0m     \u001B[38;5;28;01mreturn\u001B[39;00m \u001B[38;5;28;43mself\u001B[39;49m\u001B[38;5;241;43m.\u001B[39;49m\u001B[43m_call_impl\u001B[49m\u001B[43m(\u001B[49m\u001B[38;5;241;43m*\u001B[39;49m\u001B[43margs\u001B[49m\u001B[43m,\u001B[49m\u001B[43m \u001B[49m\u001B[38;5;241;43m*\u001B[39;49m\u001B[38;5;241;43m*\u001B[39;49m\u001B[43mkwargs\u001B[49m\u001B[43m)\u001B[49m\n",
      "File \u001B[0;32m~/.pyenv/versions/iis/lib/python3.12/site-packages/torch/nn/modules/module.py:1562\u001B[0m, in \u001B[0;36mModule._call_impl\u001B[0;34m(self, *args, **kwargs)\u001B[0m\n\u001B[1;32m   1557\u001B[0m \u001B[38;5;66;03m# If we don't have any hooks, we want to skip the rest of the logic in\u001B[39;00m\n\u001B[1;32m   1558\u001B[0m \u001B[38;5;66;03m# this function, and just call forward.\u001B[39;00m\n\u001B[1;32m   1559\u001B[0m \u001B[38;5;28;01mif\u001B[39;00m \u001B[38;5;129;01mnot\u001B[39;00m (\u001B[38;5;28mself\u001B[39m\u001B[38;5;241m.\u001B[39m_backward_hooks \u001B[38;5;129;01mor\u001B[39;00m \u001B[38;5;28mself\u001B[39m\u001B[38;5;241m.\u001B[39m_backward_pre_hooks \u001B[38;5;129;01mor\u001B[39;00m \u001B[38;5;28mself\u001B[39m\u001B[38;5;241m.\u001B[39m_forward_hooks \u001B[38;5;129;01mor\u001B[39;00m \u001B[38;5;28mself\u001B[39m\u001B[38;5;241m.\u001B[39m_forward_pre_hooks\n\u001B[1;32m   1560\u001B[0m         \u001B[38;5;129;01mor\u001B[39;00m _global_backward_pre_hooks \u001B[38;5;129;01mor\u001B[39;00m _global_backward_hooks\n\u001B[1;32m   1561\u001B[0m         \u001B[38;5;129;01mor\u001B[39;00m _global_forward_hooks \u001B[38;5;129;01mor\u001B[39;00m _global_forward_pre_hooks):\n\u001B[0;32m-> 1562\u001B[0m     \u001B[38;5;28;01mreturn\u001B[39;00m \u001B[43mforward_call\u001B[49m\u001B[43m(\u001B[49m\u001B[38;5;241;43m*\u001B[39;49m\u001B[43margs\u001B[49m\u001B[43m,\u001B[49m\u001B[43m \u001B[49m\u001B[38;5;241;43m*\u001B[39;49m\u001B[38;5;241;43m*\u001B[39;49m\u001B[43mkwargs\u001B[49m\u001B[43m)\u001B[49m\n\u001B[1;32m   1564\u001B[0m \u001B[38;5;28;01mtry\u001B[39;00m:\n\u001B[1;32m   1565\u001B[0m     result \u001B[38;5;241m=\u001B[39m \u001B[38;5;28;01mNone\u001B[39;00m\n",
      "File \u001B[0;32m~/.pyenv/versions/iis/lib/python3.12/site-packages/torch/nn/modules/container.py:219\u001B[0m, in \u001B[0;36mSequential.forward\u001B[0;34m(self, input)\u001B[0m\n\u001B[1;32m    217\u001B[0m \u001B[38;5;28;01mdef\u001B[39;00m \u001B[38;5;21mforward\u001B[39m(\u001B[38;5;28mself\u001B[39m, \u001B[38;5;28minput\u001B[39m):\n\u001B[1;32m    218\u001B[0m     \u001B[38;5;28;01mfor\u001B[39;00m module \u001B[38;5;129;01min\u001B[39;00m \u001B[38;5;28mself\u001B[39m:\n\u001B[0;32m--> 219\u001B[0m         \u001B[38;5;28minput\u001B[39m \u001B[38;5;241m=\u001B[39m \u001B[43mmodule\u001B[49m\u001B[43m(\u001B[49m\u001B[38;5;28;43minput\u001B[39;49m\u001B[43m)\u001B[49m\n\u001B[1;32m    220\u001B[0m     \u001B[38;5;28;01mreturn\u001B[39;00m \u001B[38;5;28minput\u001B[39m\n",
      "File \u001B[0;32m~/.pyenv/versions/iis/lib/python3.12/site-packages/torch/nn/modules/module.py:1553\u001B[0m, in \u001B[0;36mModule._wrapped_call_impl\u001B[0;34m(self, *args, **kwargs)\u001B[0m\n\u001B[1;32m   1551\u001B[0m     \u001B[38;5;28;01mreturn\u001B[39;00m \u001B[38;5;28mself\u001B[39m\u001B[38;5;241m.\u001B[39m_compiled_call_impl(\u001B[38;5;241m*\u001B[39margs, \u001B[38;5;241m*\u001B[39m\u001B[38;5;241m*\u001B[39mkwargs)  \u001B[38;5;66;03m# type: ignore[misc]\u001B[39;00m\n\u001B[1;32m   1552\u001B[0m \u001B[38;5;28;01melse\u001B[39;00m:\n\u001B[0;32m-> 1553\u001B[0m     \u001B[38;5;28;01mreturn\u001B[39;00m \u001B[38;5;28;43mself\u001B[39;49m\u001B[38;5;241;43m.\u001B[39;49m\u001B[43m_call_impl\u001B[49m\u001B[43m(\u001B[49m\u001B[38;5;241;43m*\u001B[39;49m\u001B[43margs\u001B[49m\u001B[43m,\u001B[49m\u001B[43m \u001B[49m\u001B[38;5;241;43m*\u001B[39;49m\u001B[38;5;241;43m*\u001B[39;49m\u001B[43mkwargs\u001B[49m\u001B[43m)\u001B[49m\n",
      "File \u001B[0;32m~/.pyenv/versions/iis/lib/python3.12/site-packages/torch/nn/modules/module.py:1562\u001B[0m, in \u001B[0;36mModule._call_impl\u001B[0;34m(self, *args, **kwargs)\u001B[0m\n\u001B[1;32m   1557\u001B[0m \u001B[38;5;66;03m# If we don't have any hooks, we want to skip the rest of the logic in\u001B[39;00m\n\u001B[1;32m   1558\u001B[0m \u001B[38;5;66;03m# this function, and just call forward.\u001B[39;00m\n\u001B[1;32m   1559\u001B[0m \u001B[38;5;28;01mif\u001B[39;00m \u001B[38;5;129;01mnot\u001B[39;00m (\u001B[38;5;28mself\u001B[39m\u001B[38;5;241m.\u001B[39m_backward_hooks \u001B[38;5;129;01mor\u001B[39;00m \u001B[38;5;28mself\u001B[39m\u001B[38;5;241m.\u001B[39m_backward_pre_hooks \u001B[38;5;129;01mor\u001B[39;00m \u001B[38;5;28mself\u001B[39m\u001B[38;5;241m.\u001B[39m_forward_hooks \u001B[38;5;129;01mor\u001B[39;00m \u001B[38;5;28mself\u001B[39m\u001B[38;5;241m.\u001B[39m_forward_pre_hooks\n\u001B[1;32m   1560\u001B[0m         \u001B[38;5;129;01mor\u001B[39;00m _global_backward_pre_hooks \u001B[38;5;129;01mor\u001B[39;00m _global_backward_hooks\n\u001B[1;32m   1561\u001B[0m         \u001B[38;5;129;01mor\u001B[39;00m _global_forward_hooks \u001B[38;5;129;01mor\u001B[39;00m _global_forward_pre_hooks):\n\u001B[0;32m-> 1562\u001B[0m     \u001B[38;5;28;01mreturn\u001B[39;00m \u001B[43mforward_call\u001B[49m\u001B[43m(\u001B[49m\u001B[38;5;241;43m*\u001B[39;49m\u001B[43margs\u001B[49m\u001B[43m,\u001B[49m\u001B[43m \u001B[49m\u001B[38;5;241;43m*\u001B[39;49m\u001B[38;5;241;43m*\u001B[39;49m\u001B[43mkwargs\u001B[49m\u001B[43m)\u001B[49m\n\u001B[1;32m   1564\u001B[0m \u001B[38;5;28;01mtry\u001B[39;00m:\n\u001B[1;32m   1565\u001B[0m     result \u001B[38;5;241m=\u001B[39m \u001B[38;5;28;01mNone\u001B[39;00m\n",
      "File \u001B[0;32m~/.pyenv/versions/iis/lib/python3.12/site-packages/feat/landmark_detectors/mobilefacenet_test.py:106\u001B[0m, in \u001B[0;36mDepth_Wise.forward\u001B[0;34m(self, x)\u001B[0m\n\u001B[1;32m    104\u001B[0m \u001B[38;5;28;01mif\u001B[39;00m \u001B[38;5;28mself\u001B[39m\u001B[38;5;241m.\u001B[39mresidual:\n\u001B[1;32m    105\u001B[0m     short_cut \u001B[38;5;241m=\u001B[39m x\n\u001B[0;32m--> 106\u001B[0m x \u001B[38;5;241m=\u001B[39m \u001B[38;5;28;43mself\u001B[39;49m\u001B[38;5;241;43m.\u001B[39;49m\u001B[43mconv\u001B[49m\u001B[43m(\u001B[49m\u001B[43mx\u001B[49m\u001B[43m)\u001B[49m\n\u001B[1;32m    107\u001B[0m x \u001B[38;5;241m=\u001B[39m \u001B[38;5;28mself\u001B[39m\u001B[38;5;241m.\u001B[39mconv_dw(x)\n\u001B[1;32m    108\u001B[0m x \u001B[38;5;241m=\u001B[39m \u001B[38;5;28mself\u001B[39m\u001B[38;5;241m.\u001B[39mproject(x)\n",
      "File \u001B[0;32m~/.pyenv/versions/iis/lib/python3.12/site-packages/torch/nn/modules/module.py:1553\u001B[0m, in \u001B[0;36mModule._wrapped_call_impl\u001B[0;34m(self, *args, **kwargs)\u001B[0m\n\u001B[1;32m   1551\u001B[0m     \u001B[38;5;28;01mreturn\u001B[39;00m \u001B[38;5;28mself\u001B[39m\u001B[38;5;241m.\u001B[39m_compiled_call_impl(\u001B[38;5;241m*\u001B[39margs, \u001B[38;5;241m*\u001B[39m\u001B[38;5;241m*\u001B[39mkwargs)  \u001B[38;5;66;03m# type: ignore[misc]\u001B[39;00m\n\u001B[1;32m   1552\u001B[0m \u001B[38;5;28;01melse\u001B[39;00m:\n\u001B[0;32m-> 1553\u001B[0m     \u001B[38;5;28;01mreturn\u001B[39;00m \u001B[38;5;28;43mself\u001B[39;49m\u001B[38;5;241;43m.\u001B[39;49m\u001B[43m_call_impl\u001B[49m\u001B[43m(\u001B[49m\u001B[38;5;241;43m*\u001B[39;49m\u001B[43margs\u001B[49m\u001B[43m,\u001B[49m\u001B[43m \u001B[49m\u001B[38;5;241;43m*\u001B[39;49m\u001B[38;5;241;43m*\u001B[39;49m\u001B[43mkwargs\u001B[49m\u001B[43m)\u001B[49m\n",
      "File \u001B[0;32m~/.pyenv/versions/iis/lib/python3.12/site-packages/torch/nn/modules/module.py:1562\u001B[0m, in \u001B[0;36mModule._call_impl\u001B[0;34m(self, *args, **kwargs)\u001B[0m\n\u001B[1;32m   1557\u001B[0m \u001B[38;5;66;03m# If we don't have any hooks, we want to skip the rest of the logic in\u001B[39;00m\n\u001B[1;32m   1558\u001B[0m \u001B[38;5;66;03m# this function, and just call forward.\u001B[39;00m\n\u001B[1;32m   1559\u001B[0m \u001B[38;5;28;01mif\u001B[39;00m \u001B[38;5;129;01mnot\u001B[39;00m (\u001B[38;5;28mself\u001B[39m\u001B[38;5;241m.\u001B[39m_backward_hooks \u001B[38;5;129;01mor\u001B[39;00m \u001B[38;5;28mself\u001B[39m\u001B[38;5;241m.\u001B[39m_backward_pre_hooks \u001B[38;5;129;01mor\u001B[39;00m \u001B[38;5;28mself\u001B[39m\u001B[38;5;241m.\u001B[39m_forward_hooks \u001B[38;5;129;01mor\u001B[39;00m \u001B[38;5;28mself\u001B[39m\u001B[38;5;241m.\u001B[39m_forward_pre_hooks\n\u001B[1;32m   1560\u001B[0m         \u001B[38;5;129;01mor\u001B[39;00m _global_backward_pre_hooks \u001B[38;5;129;01mor\u001B[39;00m _global_backward_hooks\n\u001B[1;32m   1561\u001B[0m         \u001B[38;5;129;01mor\u001B[39;00m _global_forward_hooks \u001B[38;5;129;01mor\u001B[39;00m _global_forward_pre_hooks):\n\u001B[0;32m-> 1562\u001B[0m     \u001B[38;5;28;01mreturn\u001B[39;00m \u001B[43mforward_call\u001B[49m\u001B[43m(\u001B[49m\u001B[38;5;241;43m*\u001B[39;49m\u001B[43margs\u001B[49m\u001B[43m,\u001B[49m\u001B[43m \u001B[49m\u001B[38;5;241;43m*\u001B[39;49m\u001B[38;5;241;43m*\u001B[39;49m\u001B[43mkwargs\u001B[49m\u001B[43m)\u001B[49m\n\u001B[1;32m   1564\u001B[0m \u001B[38;5;28;01mtry\u001B[39;00m:\n\u001B[1;32m   1565\u001B[0m     result \u001B[38;5;241m=\u001B[39m \u001B[38;5;28;01mNone\u001B[39;00m\n",
      "File \u001B[0;32m~/.pyenv/versions/iis/lib/python3.12/site-packages/feat/landmark_detectors/mobilefacenet_test.py:52\u001B[0m, in \u001B[0;36mConv_block.forward\u001B[0;34m(self, x)\u001B[0m\n\u001B[1;32m     51\u001B[0m \u001B[38;5;28;01mdef\u001B[39;00m \u001B[38;5;21mforward\u001B[39m(\u001B[38;5;28mself\u001B[39m, x):\n\u001B[0;32m---> 52\u001B[0m     x \u001B[38;5;241m=\u001B[39m \u001B[38;5;28;43mself\u001B[39;49m\u001B[38;5;241;43m.\u001B[39;49m\u001B[43mconv\u001B[49m\u001B[43m(\u001B[49m\u001B[43mx\u001B[49m\u001B[43m)\u001B[49m\n\u001B[1;32m     53\u001B[0m     x \u001B[38;5;241m=\u001B[39m \u001B[38;5;28mself\u001B[39m\u001B[38;5;241m.\u001B[39mbn(x)\n\u001B[1;32m     54\u001B[0m     x \u001B[38;5;241m=\u001B[39m \u001B[38;5;28mself\u001B[39m\u001B[38;5;241m.\u001B[39mprelu(x)\n",
      "File \u001B[0;32m~/.pyenv/versions/iis/lib/python3.12/site-packages/torch/nn/modules/module.py:1553\u001B[0m, in \u001B[0;36mModule._wrapped_call_impl\u001B[0;34m(self, *args, **kwargs)\u001B[0m\n\u001B[1;32m   1551\u001B[0m     \u001B[38;5;28;01mreturn\u001B[39;00m \u001B[38;5;28mself\u001B[39m\u001B[38;5;241m.\u001B[39m_compiled_call_impl(\u001B[38;5;241m*\u001B[39margs, \u001B[38;5;241m*\u001B[39m\u001B[38;5;241m*\u001B[39mkwargs)  \u001B[38;5;66;03m# type: ignore[misc]\u001B[39;00m\n\u001B[1;32m   1552\u001B[0m \u001B[38;5;28;01melse\u001B[39;00m:\n\u001B[0;32m-> 1553\u001B[0m     \u001B[38;5;28;01mreturn\u001B[39;00m \u001B[38;5;28;43mself\u001B[39;49m\u001B[38;5;241;43m.\u001B[39;49m\u001B[43m_call_impl\u001B[49m\u001B[43m(\u001B[49m\u001B[38;5;241;43m*\u001B[39;49m\u001B[43margs\u001B[49m\u001B[43m,\u001B[49m\u001B[43m \u001B[49m\u001B[38;5;241;43m*\u001B[39;49m\u001B[38;5;241;43m*\u001B[39;49m\u001B[43mkwargs\u001B[49m\u001B[43m)\u001B[49m\n",
      "File \u001B[0;32m~/.pyenv/versions/iis/lib/python3.12/site-packages/torch/nn/modules/module.py:1562\u001B[0m, in \u001B[0;36mModule._call_impl\u001B[0;34m(self, *args, **kwargs)\u001B[0m\n\u001B[1;32m   1557\u001B[0m \u001B[38;5;66;03m# If we don't have any hooks, we want to skip the rest of the logic in\u001B[39;00m\n\u001B[1;32m   1558\u001B[0m \u001B[38;5;66;03m# this function, and just call forward.\u001B[39;00m\n\u001B[1;32m   1559\u001B[0m \u001B[38;5;28;01mif\u001B[39;00m \u001B[38;5;129;01mnot\u001B[39;00m (\u001B[38;5;28mself\u001B[39m\u001B[38;5;241m.\u001B[39m_backward_hooks \u001B[38;5;129;01mor\u001B[39;00m \u001B[38;5;28mself\u001B[39m\u001B[38;5;241m.\u001B[39m_backward_pre_hooks \u001B[38;5;129;01mor\u001B[39;00m \u001B[38;5;28mself\u001B[39m\u001B[38;5;241m.\u001B[39m_forward_hooks \u001B[38;5;129;01mor\u001B[39;00m \u001B[38;5;28mself\u001B[39m\u001B[38;5;241m.\u001B[39m_forward_pre_hooks\n\u001B[1;32m   1560\u001B[0m         \u001B[38;5;129;01mor\u001B[39;00m _global_backward_pre_hooks \u001B[38;5;129;01mor\u001B[39;00m _global_backward_hooks\n\u001B[1;32m   1561\u001B[0m         \u001B[38;5;129;01mor\u001B[39;00m _global_forward_hooks \u001B[38;5;129;01mor\u001B[39;00m _global_forward_pre_hooks):\n\u001B[0;32m-> 1562\u001B[0m     \u001B[38;5;28;01mreturn\u001B[39;00m \u001B[43mforward_call\u001B[49m\u001B[43m(\u001B[49m\u001B[38;5;241;43m*\u001B[39;49m\u001B[43margs\u001B[49m\u001B[43m,\u001B[49m\u001B[43m \u001B[49m\u001B[38;5;241;43m*\u001B[39;49m\u001B[38;5;241;43m*\u001B[39;49m\u001B[43mkwargs\u001B[49m\u001B[43m)\u001B[49m\n\u001B[1;32m   1564\u001B[0m \u001B[38;5;28;01mtry\u001B[39;00m:\n\u001B[1;32m   1565\u001B[0m     result \u001B[38;5;241m=\u001B[39m \u001B[38;5;28;01mNone\u001B[39;00m\n",
      "File \u001B[0;32m~/.pyenv/versions/iis/lib/python3.12/site-packages/torch/nn/modules/conv.py:458\u001B[0m, in \u001B[0;36mConv2d.forward\u001B[0;34m(self, input)\u001B[0m\n\u001B[1;32m    457\u001B[0m \u001B[38;5;28;01mdef\u001B[39;00m \u001B[38;5;21mforward\u001B[39m(\u001B[38;5;28mself\u001B[39m, \u001B[38;5;28minput\u001B[39m: Tensor) \u001B[38;5;241m-\u001B[39m\u001B[38;5;241m>\u001B[39m Tensor:\n\u001B[0;32m--> 458\u001B[0m     \u001B[38;5;28;01mreturn\u001B[39;00m \u001B[38;5;28;43mself\u001B[39;49m\u001B[38;5;241;43m.\u001B[39;49m\u001B[43m_conv_forward\u001B[49m\u001B[43m(\u001B[49m\u001B[38;5;28;43minput\u001B[39;49m\u001B[43m,\u001B[49m\u001B[43m \u001B[49m\u001B[38;5;28;43mself\u001B[39;49m\u001B[38;5;241;43m.\u001B[39;49m\u001B[43mweight\u001B[49m\u001B[43m,\u001B[49m\u001B[43m \u001B[49m\u001B[38;5;28;43mself\u001B[39;49m\u001B[38;5;241;43m.\u001B[39;49m\u001B[43mbias\u001B[49m\u001B[43m)\u001B[49m\n",
      "File \u001B[0;32m~/.pyenv/versions/iis/lib/python3.12/site-packages/torch/nn/modules/conv.py:454\u001B[0m, in \u001B[0;36mConv2d._conv_forward\u001B[0;34m(self, input, weight, bias)\u001B[0m\n\u001B[1;32m    450\u001B[0m \u001B[38;5;28;01mif\u001B[39;00m \u001B[38;5;28mself\u001B[39m\u001B[38;5;241m.\u001B[39mpadding_mode \u001B[38;5;241m!=\u001B[39m \u001B[38;5;124m'\u001B[39m\u001B[38;5;124mzeros\u001B[39m\u001B[38;5;124m'\u001B[39m:\n\u001B[1;32m    451\u001B[0m     \u001B[38;5;28;01mreturn\u001B[39;00m F\u001B[38;5;241m.\u001B[39mconv2d(F\u001B[38;5;241m.\u001B[39mpad(\u001B[38;5;28minput\u001B[39m, \u001B[38;5;28mself\u001B[39m\u001B[38;5;241m.\u001B[39m_reversed_padding_repeated_twice, mode\u001B[38;5;241m=\u001B[39m\u001B[38;5;28mself\u001B[39m\u001B[38;5;241m.\u001B[39mpadding_mode),\n\u001B[1;32m    452\u001B[0m                     weight, bias, \u001B[38;5;28mself\u001B[39m\u001B[38;5;241m.\u001B[39mstride,\n\u001B[1;32m    453\u001B[0m                     _pair(\u001B[38;5;241m0\u001B[39m), \u001B[38;5;28mself\u001B[39m\u001B[38;5;241m.\u001B[39mdilation, \u001B[38;5;28mself\u001B[39m\u001B[38;5;241m.\u001B[39mgroups)\n\u001B[0;32m--> 454\u001B[0m \u001B[38;5;28;01mreturn\u001B[39;00m \u001B[43mF\u001B[49m\u001B[38;5;241;43m.\u001B[39;49m\u001B[43mconv2d\u001B[49m\u001B[43m(\u001B[49m\u001B[38;5;28;43minput\u001B[39;49m\u001B[43m,\u001B[49m\u001B[43m \u001B[49m\u001B[43mweight\u001B[49m\u001B[43m,\u001B[49m\u001B[43m \u001B[49m\u001B[43mbias\u001B[49m\u001B[43m,\u001B[49m\u001B[43m \u001B[49m\u001B[38;5;28;43mself\u001B[39;49m\u001B[38;5;241;43m.\u001B[39;49m\u001B[43mstride\u001B[49m\u001B[43m,\u001B[49m\n\u001B[1;32m    455\u001B[0m \u001B[43m                \u001B[49m\u001B[38;5;28;43mself\u001B[39;49m\u001B[38;5;241;43m.\u001B[39;49m\u001B[43mpadding\u001B[49m\u001B[43m,\u001B[49m\u001B[43m \u001B[49m\u001B[38;5;28;43mself\u001B[39;49m\u001B[38;5;241;43m.\u001B[39;49m\u001B[43mdilation\u001B[49m\u001B[43m,\u001B[49m\u001B[43m \u001B[49m\u001B[38;5;28;43mself\u001B[39;49m\u001B[38;5;241;43m.\u001B[39;49m\u001B[43mgroups\u001B[49m\u001B[43m)\u001B[49m\n",
      "\u001B[0;31mKeyboardInterrupt\u001B[0m: "
     ]
    }
   ],
   "execution_count": 6
  },
  {
   "metadata": {
    "ExecuteTime": {
     "end_time": "2024-12-09T16:38:11.800205864Z",
     "start_time": "2024-12-08T15:05:25.693065Z"
    }
   },
   "cell_type": "code",
   "source": [
    "# preparing the AUS data for storing\n",
    "csv_file = []\n",
    "csv_face = []\n",
    "csv_emotion = []\n",
    "csv_AUS = [\n",
    "    [], [], [], [], [], [], [], [], [], [],\n",
    "    [], [], [], [], [], [], [], [], [], []\n",
    "]\n",
    "au_numbers = [1, 2, 4, 5, 6, 7, 9, 10, 12, 14, 15, 17, 18, 20, 22, 23, 24, 25, 26, 27]\n",
    "\n",
    "for em in data:\n",
    "    for csv in em:\n",
    "        for (face, aus) in enumerate(csv.au[0]):\n",
    "            csv_file.append(csv.name)\n",
    "            csv_emotion.append(csv.real_emotion)\n",
    "            csv_face.append(face)\n",
    "            for (i, au) in enumerate(aus):\n",
    "                csv_AUS[i].append(au)\n",
    "\n",
    "csv_data = {\n",
    "    \"file\": csv_file,\n",
    "    \"emotion\": csv_emotion,\n",
    "    \"face\": csv_face,\n",
    "}\n",
    "aus_name = []\n",
    "for (i, au_entry) in zip(au_numbers, csv_AUS):\n",
    "    key = f\"AUS{i:02d}\"\n",
    "    aus_name.append(key)\n",
    "    csv_data[key] = au_entry"
   ],
   "id": "5a02df58f8e88ab9",
   "outputs": [],
   "execution_count": 188
  },
  {
   "metadata": {
    "ExecuteTime": {
     "end_time": "2024-12-09T16:38:11.801177649Z",
     "start_time": "2024-12-08T15:05:25.717005Z"
    }
   },
   "cell_type": "code",
   "source": [
    "# writing the csv file\n",
    "df = pd.DataFrame(csv_data)\n",
    "df.to_csv('aus.csv', index=False, header=True, sep=',', encoding='utf-8')"
   ],
   "id": "93271d6871366975",
   "outputs": [],
   "execution_count": 189
  },
  {
   "metadata": {
    "ExecuteTime": {
     "end_time": "2024-12-09T16:38:11.801617705Z",
     "start_time": "2024-12-08T15:28:36.480251Z"
    }
   },
   "cell_type": "code",
   "source": "",
   "id": "a7aa1f8f0a47e5b2",
   "outputs": [
    {
     "data": {
      "text/plain": [
       "      emotion     AUS01     AUS02     AUS04     AUS05     AUS06  AUS07  \\\n",
       "0       angry  0.480870  0.221707  0.554721  0.341209  0.538130    1.0   \n",
       "1       angry  0.368920  0.193828  0.238290  0.269536  0.075385    0.0   \n",
       "2       angry  0.183939  0.150695  0.466302  0.274774  0.653131    1.0   \n",
       "3       angry  0.537044  0.418116  0.481464  0.438458  0.144407    0.0   \n",
       "4       angry  0.443417  0.432919  0.677055  0.334438  0.292933    0.0   \n",
       "...       ...       ...       ...       ...       ...       ...    ...   \n",
       "1280  neutral  0.532191  0.356289  0.667120  0.268087  0.183363    0.0   \n",
       "1281  neutral  0.391457  0.269737  0.255740  0.254209  0.467601    1.0   \n",
       "1282  neutral  0.315095  0.133612  0.501751  0.290585  0.489786    0.0   \n",
       "1283  neutral  0.311539  0.211948  0.174492  0.283762  0.273198    1.0   \n",
       "1284  neutral  0.417826  0.295563  0.422287  0.284784  0.207153    1.0   \n",
       "\n",
       "         AUS09     AUS10  AUS12  ...     AUS15     AUS17     AUS18  AUS20  \\\n",
       "0     0.537321  0.023429    0.0  ...  0.406401  0.140524  0.218493    1.0   \n",
       "1     0.262338  0.004279    1.0  ...  0.350709  0.188251  0.409465    0.0   \n",
       "2     0.630967  0.671980    1.0  ...  0.368121  0.468825  0.375855    1.0   \n",
       "3     0.371219  0.012467    0.0  ...  0.224992  0.260010  0.403900    0.0   \n",
       "4     0.417626  0.072513    0.0  ...  0.233493  0.305763  0.370906    1.0   \n",
       "...        ...       ...    ...  ...       ...       ...       ...    ...   \n",
       "1280  0.383144  0.062852    1.0  ...  0.431349  0.466445  0.368812    0.0   \n",
       "1281  0.555540  0.948187    1.0  ...  0.546964  0.207212  0.468196    0.0   \n",
       "1282  0.586251  0.007189    1.0  ...  0.310133  0.300780  0.443109    0.0   \n",
       "1283  0.314977  0.722951    1.0  ...  0.333568  0.575626  0.530533    0.0   \n",
       "1284  0.407616  0.845847    0.0  ...  0.249539  0.161755  0.436802    0.0   \n",
       "\n",
       "         AUS22     AUS23     AUS24     AUS25     AUS26     AUS27  \n",
       "0     0.459626  0.023246  0.997896  0.326979  0.050575  0.323358  \n",
       "1     0.312356  0.202418  0.110333  0.077836  0.065766  0.124806  \n",
       "2     0.378847  0.471499  0.988207  0.550548  0.018353  0.548190  \n",
       "3     0.596797  0.231718  0.688821  0.145960  0.571579  0.218896  \n",
       "4     0.559862  0.285304  0.879467  0.089313  0.210681  0.375842  \n",
       "...        ...       ...       ...       ...       ...       ...  \n",
       "1280  0.319030  0.372964  0.376775  0.208692  0.450813  0.511936  \n",
       "1281  0.634832  0.697788  0.006877  0.221563  0.530447  0.269997  \n",
       "1282  0.277499  0.456451  0.391197  0.034541  0.120995  0.151804  \n",
       "1283  0.313630  0.495963  0.245356  0.125659  0.125381  0.393924  \n",
       "1284  0.544835  0.435941  0.983305  0.409482  0.393165  0.205866  \n",
       "\n",
       "[1285 rows x 21 columns]"
      ],
      "text/html": [
       "<div>\n",
       "<style scoped>\n",
       "    .dataframe tbody tr th:only-of-type {\n",
       "        vertical-align: middle;\n",
       "    }\n",
       "\n",
       "    .dataframe tbody tr th {\n",
       "        vertical-align: top;\n",
       "    }\n",
       "\n",
       "    .dataframe thead th {\n",
       "        text-align: right;\n",
       "    }\n",
       "</style>\n",
       "<table border=\"1\" class=\"dataframe\">\n",
       "  <thead>\n",
       "    <tr style=\"text-align: right;\">\n",
       "      <th></th>\n",
       "      <th>emotion</th>\n",
       "      <th>AUS01</th>\n",
       "      <th>AUS02</th>\n",
       "      <th>AUS04</th>\n",
       "      <th>AUS05</th>\n",
       "      <th>AUS06</th>\n",
       "      <th>AUS07</th>\n",
       "      <th>AUS09</th>\n",
       "      <th>AUS10</th>\n",
       "      <th>AUS12</th>\n",
       "      <th>...</th>\n",
       "      <th>AUS15</th>\n",
       "      <th>AUS17</th>\n",
       "      <th>AUS18</th>\n",
       "      <th>AUS20</th>\n",
       "      <th>AUS22</th>\n",
       "      <th>AUS23</th>\n",
       "      <th>AUS24</th>\n",
       "      <th>AUS25</th>\n",
       "      <th>AUS26</th>\n",
       "      <th>AUS27</th>\n",
       "    </tr>\n",
       "  </thead>\n",
       "  <tbody>\n",
       "    <tr>\n",
       "      <th>0</th>\n",
       "      <td>angry</td>\n",
       "      <td>0.480870</td>\n",
       "      <td>0.221707</td>\n",
       "      <td>0.554721</td>\n",
       "      <td>0.341209</td>\n",
       "      <td>0.538130</td>\n",
       "      <td>1.0</td>\n",
       "      <td>0.537321</td>\n",
       "      <td>0.023429</td>\n",
       "      <td>0.0</td>\n",
       "      <td>...</td>\n",
       "      <td>0.406401</td>\n",
       "      <td>0.140524</td>\n",
       "      <td>0.218493</td>\n",
       "      <td>1.0</td>\n",
       "      <td>0.459626</td>\n",
       "      <td>0.023246</td>\n",
       "      <td>0.997896</td>\n",
       "      <td>0.326979</td>\n",
       "      <td>0.050575</td>\n",
       "      <td>0.323358</td>\n",
       "    </tr>\n",
       "    <tr>\n",
       "      <th>1</th>\n",
       "      <td>angry</td>\n",
       "      <td>0.368920</td>\n",
       "      <td>0.193828</td>\n",
       "      <td>0.238290</td>\n",
       "      <td>0.269536</td>\n",
       "      <td>0.075385</td>\n",
       "      <td>0.0</td>\n",
       "      <td>0.262338</td>\n",
       "      <td>0.004279</td>\n",
       "      <td>1.0</td>\n",
       "      <td>...</td>\n",
       "      <td>0.350709</td>\n",
       "      <td>0.188251</td>\n",
       "      <td>0.409465</td>\n",
       "      <td>0.0</td>\n",
       "      <td>0.312356</td>\n",
       "      <td>0.202418</td>\n",
       "      <td>0.110333</td>\n",
       "      <td>0.077836</td>\n",
       "      <td>0.065766</td>\n",
       "      <td>0.124806</td>\n",
       "    </tr>\n",
       "    <tr>\n",
       "      <th>2</th>\n",
       "      <td>angry</td>\n",
       "      <td>0.183939</td>\n",
       "      <td>0.150695</td>\n",
       "      <td>0.466302</td>\n",
       "      <td>0.274774</td>\n",
       "      <td>0.653131</td>\n",
       "      <td>1.0</td>\n",
       "      <td>0.630967</td>\n",
       "      <td>0.671980</td>\n",
       "      <td>1.0</td>\n",
       "      <td>...</td>\n",
       "      <td>0.368121</td>\n",
       "      <td>0.468825</td>\n",
       "      <td>0.375855</td>\n",
       "      <td>1.0</td>\n",
       "      <td>0.378847</td>\n",
       "      <td>0.471499</td>\n",
       "      <td>0.988207</td>\n",
       "      <td>0.550548</td>\n",
       "      <td>0.018353</td>\n",
       "      <td>0.548190</td>\n",
       "    </tr>\n",
       "    <tr>\n",
       "      <th>3</th>\n",
       "      <td>angry</td>\n",
       "      <td>0.537044</td>\n",
       "      <td>0.418116</td>\n",
       "      <td>0.481464</td>\n",
       "      <td>0.438458</td>\n",
       "      <td>0.144407</td>\n",
       "      <td>0.0</td>\n",
       "      <td>0.371219</td>\n",
       "      <td>0.012467</td>\n",
       "      <td>0.0</td>\n",
       "      <td>...</td>\n",
       "      <td>0.224992</td>\n",
       "      <td>0.260010</td>\n",
       "      <td>0.403900</td>\n",
       "      <td>0.0</td>\n",
       "      <td>0.596797</td>\n",
       "      <td>0.231718</td>\n",
       "      <td>0.688821</td>\n",
       "      <td>0.145960</td>\n",
       "      <td>0.571579</td>\n",
       "      <td>0.218896</td>\n",
       "    </tr>\n",
       "    <tr>\n",
       "      <th>4</th>\n",
       "      <td>angry</td>\n",
       "      <td>0.443417</td>\n",
       "      <td>0.432919</td>\n",
       "      <td>0.677055</td>\n",
       "      <td>0.334438</td>\n",
       "      <td>0.292933</td>\n",
       "      <td>0.0</td>\n",
       "      <td>0.417626</td>\n",
       "      <td>0.072513</td>\n",
       "      <td>0.0</td>\n",
       "      <td>...</td>\n",
       "      <td>0.233493</td>\n",
       "      <td>0.305763</td>\n",
       "      <td>0.370906</td>\n",
       "      <td>1.0</td>\n",
       "      <td>0.559862</td>\n",
       "      <td>0.285304</td>\n",
       "      <td>0.879467</td>\n",
       "      <td>0.089313</td>\n",
       "      <td>0.210681</td>\n",
       "      <td>0.375842</td>\n",
       "    </tr>\n",
       "    <tr>\n",
       "      <th>...</th>\n",
       "      <td>...</td>\n",
       "      <td>...</td>\n",
       "      <td>...</td>\n",
       "      <td>...</td>\n",
       "      <td>...</td>\n",
       "      <td>...</td>\n",
       "      <td>...</td>\n",
       "      <td>...</td>\n",
       "      <td>...</td>\n",
       "      <td>...</td>\n",
       "      <td>...</td>\n",
       "      <td>...</td>\n",
       "      <td>...</td>\n",
       "      <td>...</td>\n",
       "      <td>...</td>\n",
       "      <td>...</td>\n",
       "      <td>...</td>\n",
       "      <td>...</td>\n",
       "      <td>...</td>\n",
       "      <td>...</td>\n",
       "      <td>...</td>\n",
       "    </tr>\n",
       "    <tr>\n",
       "      <th>1280</th>\n",
       "      <td>neutral</td>\n",
       "      <td>0.532191</td>\n",
       "      <td>0.356289</td>\n",
       "      <td>0.667120</td>\n",
       "      <td>0.268087</td>\n",
       "      <td>0.183363</td>\n",
       "      <td>0.0</td>\n",
       "      <td>0.383144</td>\n",
       "      <td>0.062852</td>\n",
       "      <td>1.0</td>\n",
       "      <td>...</td>\n",
       "      <td>0.431349</td>\n",
       "      <td>0.466445</td>\n",
       "      <td>0.368812</td>\n",
       "      <td>0.0</td>\n",
       "      <td>0.319030</td>\n",
       "      <td>0.372964</td>\n",
       "      <td>0.376775</td>\n",
       "      <td>0.208692</td>\n",
       "      <td>0.450813</td>\n",
       "      <td>0.511936</td>\n",
       "    </tr>\n",
       "    <tr>\n",
       "      <th>1281</th>\n",
       "      <td>neutral</td>\n",
       "      <td>0.391457</td>\n",
       "      <td>0.269737</td>\n",
       "      <td>0.255740</td>\n",
       "      <td>0.254209</td>\n",
       "      <td>0.467601</td>\n",
       "      <td>1.0</td>\n",
       "      <td>0.555540</td>\n",
       "      <td>0.948187</td>\n",
       "      <td>1.0</td>\n",
       "      <td>...</td>\n",
       "      <td>0.546964</td>\n",
       "      <td>0.207212</td>\n",
       "      <td>0.468196</td>\n",
       "      <td>0.0</td>\n",
       "      <td>0.634832</td>\n",
       "      <td>0.697788</td>\n",
       "      <td>0.006877</td>\n",
       "      <td>0.221563</td>\n",
       "      <td>0.530447</td>\n",
       "      <td>0.269997</td>\n",
       "    </tr>\n",
       "    <tr>\n",
       "      <th>1282</th>\n",
       "      <td>neutral</td>\n",
       "      <td>0.315095</td>\n",
       "      <td>0.133612</td>\n",
       "      <td>0.501751</td>\n",
       "      <td>0.290585</td>\n",
       "      <td>0.489786</td>\n",
       "      <td>0.0</td>\n",
       "      <td>0.586251</td>\n",
       "      <td>0.007189</td>\n",
       "      <td>1.0</td>\n",
       "      <td>...</td>\n",
       "      <td>0.310133</td>\n",
       "      <td>0.300780</td>\n",
       "      <td>0.443109</td>\n",
       "      <td>0.0</td>\n",
       "      <td>0.277499</td>\n",
       "      <td>0.456451</td>\n",
       "      <td>0.391197</td>\n",
       "      <td>0.034541</td>\n",
       "      <td>0.120995</td>\n",
       "      <td>0.151804</td>\n",
       "    </tr>\n",
       "    <tr>\n",
       "      <th>1283</th>\n",
       "      <td>neutral</td>\n",
       "      <td>0.311539</td>\n",
       "      <td>0.211948</td>\n",
       "      <td>0.174492</td>\n",
       "      <td>0.283762</td>\n",
       "      <td>0.273198</td>\n",
       "      <td>1.0</td>\n",
       "      <td>0.314977</td>\n",
       "      <td>0.722951</td>\n",
       "      <td>1.0</td>\n",
       "      <td>...</td>\n",
       "      <td>0.333568</td>\n",
       "      <td>0.575626</td>\n",
       "      <td>0.530533</td>\n",
       "      <td>0.0</td>\n",
       "      <td>0.313630</td>\n",
       "      <td>0.495963</td>\n",
       "      <td>0.245356</td>\n",
       "      <td>0.125659</td>\n",
       "      <td>0.125381</td>\n",
       "      <td>0.393924</td>\n",
       "    </tr>\n",
       "    <tr>\n",
       "      <th>1284</th>\n",
       "      <td>neutral</td>\n",
       "      <td>0.417826</td>\n",
       "      <td>0.295563</td>\n",
       "      <td>0.422287</td>\n",
       "      <td>0.284784</td>\n",
       "      <td>0.207153</td>\n",
       "      <td>1.0</td>\n",
       "      <td>0.407616</td>\n",
       "      <td>0.845847</td>\n",
       "      <td>0.0</td>\n",
       "      <td>...</td>\n",
       "      <td>0.249539</td>\n",
       "      <td>0.161755</td>\n",
       "      <td>0.436802</td>\n",
       "      <td>0.0</td>\n",
       "      <td>0.544835</td>\n",
       "      <td>0.435941</td>\n",
       "      <td>0.983305</td>\n",
       "      <td>0.409482</td>\n",
       "      <td>0.393165</td>\n",
       "      <td>0.205866</td>\n",
       "    </tr>\n",
       "  </tbody>\n",
       "</table>\n",
       "<p>1285 rows × 21 columns</p>\n",
       "</div>"
      ]
     },
     "execution_count": 202,
     "metadata": {},
     "output_type": "execute_result"
    }
   ],
   "execution_count": 202
  },
  {
   "metadata": {},
   "cell_type": "markdown",
   "source": "# 2. Train model",
   "id": "4fa3e39b14cfb16d"
  },
  {
   "metadata": {
    "ExecuteTime": {
     "end_time": "2024-12-09T17:36:08.483845Z",
     "start_time": "2024-12-09T17:36:08.468814Z"
    }
   },
   "cell_type": "code",
   "source": [
    "from sklearn.model_selection import train_test_split\n",
    "from sklearn.neural_network import MLPClassifier\n",
    "from sklearn.svm import SVC\n",
    "from sklearn.neighbors import KNeighborsClassifier\n",
    "from sklearn.metrics import accuracy_score\n",
    "import pandas as pd"
   ],
   "id": "5187fbe207e96c71",
   "outputs": [],
   "execution_count": 5
  },
  {
   "metadata": {
    "ExecuteTime": {
     "end_time": "2024-12-09T17:36:10.308627Z",
     "start_time": "2024-12-09T17:36:10.302649Z"
    }
   },
   "cell_type": "code",
   "source": [
    "def train_and_eval(model, train_in, train_out, val_in, val_out):\n",
    "    model.fit(train_in, train_out)\n",
    "    predicted_val = model.predict(val_in)\n",
    "\n",
    "    # Evaluate model\n",
    "    return accuracy_score(val_out, predicted_val)"
   ],
   "id": "8293533750befe81",
   "outputs": [],
   "execution_count": 6
  },
  {
   "metadata": {},
   "cell_type": "markdown",
   "source": "## 2.1 Read and Preprocess the dataset in a format that is appropriate for training",
   "id": "411fa2d85d8ebb38"
  },
  {
   "metadata": {
    "ExecuteTime": {
     "end_time": "2024-12-09T17:36:13.126483Z",
     "start_time": "2024-12-09T17:36:13.083053Z"
    }
   },
   "cell_type": "code",
   "source": [
    "data = pd.read_csv(\"aus.csv\")\n",
    "data = data.drop(\"file\", axis=1)\n",
    "data = data.drop(\"face\", axis=1)\n",
    "#data = data[['emotion', 'AUS00', 'AUS01', 'AUS02', ]]\n",
    "# get rid of AUS10, AUS18, AUS22, AUS24, AUS25\n",
    "#data = data.drop(\"AUS10\", axis=1)\n",
    "#data = data.drop(\"AUS18\", axis=1)\n",
    "#data = data.drop(\"AUS22\", axis=1)\n",
    "#data = data.drop(\"AUS24\", axis=1)\n",
    "#data = data.drop(\"AUS25\", axis=1)\n",
    "print(data)\n",
    "\n",
    "print(\"Unique classes\", data[\"emotion\"].unique(), \"\\n\")\n",
    "\n",
    "\n",
    "for class0 in data[\"emotion\"].unique():\n",
    "    print(f\"Found {(data['emotion'] == class0).value_counts().iloc[1]} samples for class {class0}\")\n",
    "\n",
    "labels = data[\"emotion\"]\n",
    "inputs = data.drop(\"emotion\", axis=1)"
   ],
   "id": "b1d0dffeb084f215",
   "outputs": [
    {
     "name": "stdout",
     "output_type": "stream",
     "text": [
      "      emotion     AUS01     AUS02     AUS04     AUS05     AUS06  AUS07  \\\n",
      "0       angry  0.480870  0.221707  0.554721  0.341209  0.538130    1.0   \n",
      "1       angry  0.368920  0.193828  0.238290  0.269536  0.075385    0.0   \n",
      "2       angry  0.183939  0.150695  0.466302  0.274774  0.653131    1.0   \n",
      "3       angry  0.537044  0.418116  0.481464  0.438458  0.144407    0.0   \n",
      "4       angry  0.443417  0.432919  0.677055  0.334438  0.292933    0.0   \n",
      "...       ...       ...       ...       ...       ...       ...    ...   \n",
      "1280  neutral  0.532191  0.356289  0.667120  0.268087  0.183363    0.0   \n",
      "1281  neutral  0.391457  0.269737  0.255740  0.254209  0.467601    1.0   \n",
      "1282  neutral  0.315095  0.133612  0.501751  0.290585  0.489786    0.0   \n",
      "1283  neutral  0.311539  0.211948  0.174492  0.283762  0.273198    1.0   \n",
      "1284  neutral  0.417826  0.295563  0.422287  0.284784  0.207153    1.0   \n",
      "\n",
      "         AUS09     AUS10  AUS12  ...     AUS15     AUS17     AUS18  AUS20  \\\n",
      "0     0.537321  0.023429    0.0  ...  0.406401  0.140524  0.218493    1.0   \n",
      "1     0.262338  0.004279    1.0  ...  0.350709  0.188251  0.409465    0.0   \n",
      "2     0.630967  0.671980    1.0  ...  0.368121  0.468825  0.375855    1.0   \n",
      "3     0.371219  0.012467    0.0  ...  0.224992  0.260010  0.403900    0.0   \n",
      "4     0.417626  0.072513    0.0  ...  0.233493  0.305763  0.370906    1.0   \n",
      "...        ...       ...    ...  ...       ...       ...       ...    ...   \n",
      "1280  0.383144  0.062852    1.0  ...  0.431349  0.466445  0.368812    0.0   \n",
      "1281  0.555540  0.948187    1.0  ...  0.546964  0.207212  0.468196    0.0   \n",
      "1282  0.586251  0.007189    1.0  ...  0.310133  0.300780  0.443109    0.0   \n",
      "1283  0.314977  0.722951    1.0  ...  0.333568  0.575626  0.530533    0.0   \n",
      "1284  0.407616  0.845847    0.0  ...  0.249539  0.161755  0.436802    0.0   \n",
      "\n",
      "         AUS22     AUS23     AUS24     AUS25     AUS26     AUS27  \n",
      "0     0.459626  0.023246  0.997896  0.326979  0.050575  0.323358  \n",
      "1     0.312356  0.202418  0.110333  0.077836  0.065766  0.124806  \n",
      "2     0.378847  0.471499  0.988207  0.550548  0.018353  0.548190  \n",
      "3     0.596797  0.231718  0.688821  0.145960  0.571579  0.218896  \n",
      "4     0.559862  0.285304  0.879467  0.089313  0.210681  0.375842  \n",
      "...        ...       ...       ...       ...       ...       ...  \n",
      "1280  0.319030  0.372964  0.376775  0.208692  0.450813  0.511936  \n",
      "1281  0.634832  0.697788  0.006877  0.221563  0.530447  0.269997  \n",
      "1282  0.277499  0.456451  0.391197  0.034541  0.120995  0.151804  \n",
      "1283  0.313630  0.495963  0.245356  0.125659  0.125381  0.393924  \n",
      "1284  0.544835  0.435941  0.983305  0.409482  0.393165  0.205866  \n",
      "\n",
      "[1285 rows x 21 columns]\n",
      "Unique classes ['angry' 'disgust' 'fear' 'happy' 'sad' 'surprise' 'neutral'] \n",
      "\n",
      "Found 177 samples for class angry\n",
      "Found 88 samples for class disgust\n",
      "Found 71 samples for class fear\n",
      "Found 339 samples for class happy\n",
      "Found 81 samples for class sad\n",
      "Found 182 samples for class surprise\n",
      "Found 347 samples for class neutral\n"
     ]
    }
   ],
   "execution_count": 7
  },
  {
   "metadata": {},
   "cell_type": "markdown",
   "source": "## 2.2 Balanced split of the dataset for train/val/test.",
   "id": "5eebb1fb0e9d1ccb"
  },
  {
   "metadata": {
    "ExecuteTime": {
     "end_time": "2024-12-09T17:36:16.511699Z",
     "start_time": "2024-12-09T17:36:16.483687Z"
    }
   },
   "cell_type": "code",
   "source": [
    "data_in, test_in, data_out, test_out = train_test_split(\n",
    "    inputs,\n",
    "    labels,\n",
    "    test_size=0.1,\n",
    "    random_state=42,\n",
    "    stratify=labels  # balances labels across the sets\n",
    ")\n",
    "train_in, val_in, train_out, val_out = train_test_split(\n",
    "    data_in,\n",
    "    data_out,\n",
    "    test_size=(0.2/0.9),  # 20% of the original data\n",
    "    random_state=42,\n",
    "    stratify=data_out\n",
    ")"
   ],
   "id": "a56ba8105f8981cb",
   "outputs": [],
   "execution_count": 8
  },
  {
   "metadata": {},
   "cell_type": "markdown",
   "source": "## 2.3 Hyperparameter tuning and model selection",
   "id": "3c48782af59f2bf4"
  },
  {
   "metadata": {},
   "cell_type": "markdown",
   "source": "### Using different kernels with Support Vector Machines (SVM)",
   "id": "83439d57a331d898"
  },
  {
   "metadata": {
    "ExecuteTime": {
     "end_time": "2024-12-09T17:36:19.943425Z",
     "start_time": "2024-12-09T17:36:19.569131Z"
    }
   },
   "cell_type": "code",
   "source": [
    "kernels = ['linear', 'poly', 'rbf', 'sigmoid']\n",
    "\n",
    "model_svc = []\n",
    "best_model_svc = None\n",
    "for (index, kernel) in enumerate(kernels):\n",
    "    model_svc.append(SVC(kernel=kernel))\n",
    "    accuracy = train_and_eval(model_svc[index], train_in, train_out, val_in, val_out)\n",
    "    print(\"accuracy for index %2d, kernel = %10s: %.4f\" % (index, kernel, accuracy))\n",
    "    if best_model_svc is None or accuracy > best_model_svc[1]:\n",
    "        best_model_svc = (model_svc[index], accuracy)"
   ],
   "id": "91632db33765b9de",
   "outputs": [
    {
     "name": "stdout",
     "output_type": "stream",
     "text": [
      "accuracy for index  0, kernel =     linear: 0.5759\n",
      "accuracy for index  1, kernel =       poly: 0.6109\n",
      "accuracy for index  2, kernel =        rbf: 0.6031\n",
      "accuracy for index  3, kernel =    sigmoid: 0.1673\n"
     ]
    }
   ],
   "execution_count": 9
  },
  {
   "metadata": {},
   "cell_type": "markdown",
   "source": "### Using different `k` values when using `k`-Nearest Neighbours",
   "id": "2abc7417b1c9f758"
  },
  {
   "metadata": {
    "ExecuteTime": {
     "end_time": "2024-12-09T16:38:11.849892719Z",
     "start_time": "2024-12-09T15:40:47.973746Z"
    }
   },
   "cell_type": "code",
   "source": [
    "model_knn = []\n",
    "best_model_knn = None\n",
    "for (k, i) in enumerate([1, 2, 4, 8, 16, 32, 64, 128, 254]):\n",
    "    model_knn.append(KNeighborsClassifier(n_neighbors=i))\n",
    "    accuracy = train_and_eval(model_knn[k], train_in, train_out, val_in, val_out)\n",
    "    print(\"accuracy for index %2d, k = %3d: %.4f\" % (k, i, accuracy))\n",
    "    if best_model_knn is None or accuracy > best_model_knn[1]:\n",
    "        best_model_knn = (model_knn[k], accuracy)"
   ],
   "id": "e36e38e875f742eb",
   "outputs": [
    {
     "name": "stdout",
     "output_type": "stream",
     "text": [
      "accuracy for index  0, k =   1: 0.5292\n",
      "accuracy for index  1, k =   2: 0.4903\n",
      "accuracy for index  2, k =   4: 0.5409\n",
      "accuracy for index  3, k =   8: 0.5486\n",
      "accuracy for index  4, k =  16: 0.5759\n",
      "accuracy for index  5, k =  32: 0.5875\n",
      "accuracy for index  6, k =  64: 0.5447\n",
      "accuracy for index  7, k = 128: 0.5486\n",
      "accuracy for index  8, k = 254: 0.5331\n"
     ]
    }
   ],
   "execution_count": 9
  },
  {
   "metadata": {},
   "cell_type": "markdown",
   "source": "### Changing the depth and breadth of a Multi-Layer Perceptron (MLP)",
   "id": "e6a9dcee24a900dc"
  },
  {
   "metadata": {
    "ExecuteTime": {
     "end_time": "2024-12-09T16:38:11.850206562Z",
     "start_time": "2024-12-08T15:05:26.244803Z"
    }
   },
   "cell_type": "code",
   "source": [
    "best_layer = 0\n",
    "best_accuracy = 0\n",
    "best_model_mlp = None\n",
    "model_mlp = []\n",
    "layers = []\n",
    "for layer_index in range(4):\n",
    "    layers.append(1)\n",
    "    for (index, layer) in enumerate(layers):\n",
    "        for i in range(2, 9):\n",
    "            layers[index] = 2 ** i\n",
    "            model_mlp.append(MLPClassifier(hidden_layer_sizes=tuple(layers), max_iter=5000))\n",
    "            accuracy = train_and_eval(model_mlp[-1], train_in, train_out, val_in, val_out)\n",
    "\n",
    "            if accuracy > best_accuracy:\n",
    "                best_accuracy = accuracy\n",
    "                best_model_mlp = (model_mlp[-1], accuracy)\n",
    "\n",
    "            print(f\"accuracy for {layers}: %.4f\" % (accuracy))"
   ],
   "id": "f7de57ea034bdb08",
   "outputs": [
    {
     "name": "stdout",
     "output_type": "stream",
     "text": [
      "accuracy for [4]: 0.6148\n",
      "accuracy for [8]: 0.5837\n",
      "accuracy for [16]: 0.6226\n",
      "accuracy for [32]: 0.5875\n",
      "accuracy for [64]: 0.5370\n",
      "accuracy for [128]: 0.5136\n",
      "accuracy for [256]: 0.5409\n",
      "accuracy for [4, 1]: 0.5720\n",
      "accuracy for [8, 1]: 0.5875\n",
      "accuracy for [16, 1]: 0.5214\n",
      "accuracy for [32, 1]: 0.2646\n",
      "accuracy for [64, 1]: 0.5253\n",
      "accuracy for [128, 1]: 0.5642\n",
      "accuracy for [256, 1]: 0.4591\n",
      "accuracy for [256, 4]: 0.5136\n",
      "accuracy for [256, 8]: 0.5409\n",
      "accuracy for [256, 16]: 0.5486\n",
      "accuracy for [256, 32]: 0.5409\n",
      "accuracy for [256, 64]: 0.5564\n",
      "accuracy for [256, 128]: 0.5370\n",
      "accuracy for [256, 256]: 0.5331\n",
      "accuracy for [4, 256, 1]: 0.2685\n",
      "accuracy for [8, 256, 1]: 0.2685\n",
      "accuracy for [16, 256, 1]: 0.4241\n",
      "accuracy for [32, 256, 1]: 0.5253\n",
      "accuracy for [64, 256, 1]: 0.2646\n",
      "accuracy for [128, 256, 1]: 0.2685\n",
      "accuracy for [256, 256, 1]: 0.2646\n",
      "accuracy for [256, 4, 1]: 0.4708\n",
      "accuracy for [256, 8, 1]: 0.5331\n",
      "accuracy for [256, 16, 1]: 0.4475\n",
      "accuracy for [256, 32, 1]: 0.5058\n",
      "accuracy for [256, 64, 1]: 0.2646\n",
      "accuracy for [256, 128, 1]: 0.5253\n",
      "accuracy for [256, 256, 1]: 0.2646\n",
      "accuracy for [256, 256, 4]: 0.5525\n",
      "accuracy for [256, 256, 8]: 0.5253\n",
      "accuracy for [256, 256, 16]: 0.5253\n",
      "accuracy for [256, 256, 32]: 0.5409\n",
      "accuracy for [256, 256, 64]: 0.5175\n",
      "accuracy for [256, 256, 128]: 0.5603\n",
      "accuracy for [256, 256, 256]: 0.4864\n",
      "accuracy for [4, 256, 256, 1]: 0.2685\n",
      "accuracy for [8, 256, 256, 1]: 0.2685\n",
      "accuracy for [16, 256, 256, 1]: 0.2685\n",
      "accuracy for [32, 256, 256, 1]: 0.2646\n",
      "accuracy for [64, 256, 256, 1]: 0.4514\n",
      "accuracy for [128, 256, 256, 1]: 0.2685\n",
      "accuracy for [256, 256, 256, 1]: 0.2685\n",
      "accuracy for [256, 4, 256, 1]: 0.2685\n",
      "accuracy for [256, 8, 256, 1]: 0.2685\n",
      "accuracy for [256, 16, 256, 1]: 0.2685\n",
      "accuracy for [256, 32, 256, 1]: 0.2646\n",
      "accuracy for [256, 64, 256, 1]: 0.2685\n",
      "accuracy for [256, 128, 256, 1]: 0.4319\n",
      "accuracy for [256, 256, 256, 1]: 0.4708\n",
      "accuracy for [256, 256, 4, 1]: 0.2646\n",
      "accuracy for [256, 256, 8, 1]: 0.5720\n",
      "accuracy for [256, 256, 16, 1]: 0.2685\n",
      "accuracy for [256, 256, 32, 1]: 0.2685\n",
      "accuracy for [256, 256, 64, 1]: 0.2685\n",
      "accuracy for [256, 256, 128, 1]: 0.2646\n",
      "accuracy for [256, 256, 256, 1]: 0.4436\n",
      "accuracy for [256, 256, 256, 4]: 0.5370\n",
      "accuracy for [256, 256, 256, 8]: 0.5175\n",
      "accuracy for [256, 256, 256, 16]: 0.5603\n",
      "accuracy for [256, 256, 256, 32]: 0.5447\n",
      "accuracy for [256, 256, 256, 64]: 0.5253\n",
      "accuracy for [256, 256, 256, 128]: 0.5331\n",
      "accuracy for [256, 256, 256, 256]: 0.5642\n"
     ]
    }
   ],
   "execution_count": 196
  },
  {
   "metadata": {},
   "cell_type": "markdown",
   "source": "## 2.4 Analyzing",
   "id": "2b020ff05920faca"
  },
  {
   "metadata": {
    "ExecuteTime": {
     "end_time": "2024-12-09T17:36:27.454279Z",
     "start_time": "2024-12-09T17:36:26.485727Z"
    }
   },
   "cell_type": "code",
   "source": [
    "# Display the best trained models and their accuracy\n",
    "print(f\"Best SVM model: %10s -> accuracy: %10.2f %%\" % (best_model_svc[0].kernel, best_model_svc[1]*100))\n",
    "print(f\"Best KNN model: %10s -> accuracy: %10.2f %%\" % (best_model_knn[0].n_neighbors, best_model_knn[1]*100))\n",
    "print(f\"Best MLP model: %10s -> accuracy: %10.2f %%\" % (best_model_mlp[0].hidden_layer_sizes, best_model_mlp[1]*100))"
   ],
   "id": "fb0c3d28cd453b73",
   "outputs": [
    {
     "name": "stdout",
     "output_type": "stream",
     "text": [
      "Best SVM model:       poly -> accuracy:      61.09 %\n"
     ]
    },
    {
     "ename": "NameError",
     "evalue": "name 'best_model_knn' is not defined",
     "output_type": "error",
     "traceback": [
      "\u001B[1;31m---------------------------------------------------------------------------\u001B[0m",
      "\u001B[1;31mNameError\u001B[0m                                 Traceback (most recent call last)",
      "Cell \u001B[1;32mIn[10], line 3\u001B[0m\n\u001B[0;32m      1\u001B[0m \u001B[38;5;66;03m# Display the best trained models and their accuracy\u001B[39;00m\n\u001B[0;32m      2\u001B[0m \u001B[38;5;28mprint\u001B[39m(\u001B[38;5;124mf\u001B[39m\u001B[38;5;124m\"\u001B[39m\u001B[38;5;124mBest SVM model: %10s -> accuracy: %10.2f %%\u001B[39m\u001B[38;5;124m\"\u001B[39m \u001B[38;5;241m%\u001B[39m (best_model_svc[\u001B[38;5;241m0\u001B[39m]\u001B[38;5;241m.\u001B[39mkernel, best_model_svc[\u001B[38;5;241m1\u001B[39m]\u001B[38;5;241m*\u001B[39m\u001B[38;5;241m100\u001B[39m))\n\u001B[1;32m----> 3\u001B[0m \u001B[38;5;28mprint\u001B[39m(\u001B[38;5;124mf\u001B[39m\u001B[38;5;124m\"\u001B[39m\u001B[38;5;124mBest KNN model: %10s -> accuracy: %10.2f %%\u001B[39m\u001B[38;5;124m\"\u001B[39m \u001B[38;5;241m%\u001B[39m (\u001B[43mbest_model_knn\u001B[49m[\u001B[38;5;241m0\u001B[39m]\u001B[38;5;241m.\u001B[39mn_neighbors, best_model_knn[\u001B[38;5;241m1\u001B[39m]\u001B[38;5;241m*\u001B[39m\u001B[38;5;241m100\u001B[39m))\n\u001B[0;32m      4\u001B[0m \u001B[38;5;28mprint\u001B[39m(\u001B[38;5;124mf\u001B[39m\u001B[38;5;124m\"\u001B[39m\u001B[38;5;124mBest MLP model: %10s -> accuracy: %10.2f %%\u001B[39m\u001B[38;5;124m\"\u001B[39m \u001B[38;5;241m%\u001B[39m (best_model_mlp[\u001B[38;5;241m0\u001B[39m]\u001B[38;5;241m.\u001B[39mhidden_layer_sizes, best_model_mlp[\u001B[38;5;241m1\u001B[39m]\u001B[38;5;241m*\u001B[39m\u001B[38;5;241m100\u001B[39m))\n",
      "\u001B[1;31mNameError\u001B[0m: name 'best_model_knn' is not defined"
     ]
    }
   ],
   "execution_count": 10
  },
  {
   "metadata": {},
   "cell_type": "markdown",
   "source": [
    "### 2.4.1 Results for: ALL AUs\n",
    "Best SVM model:       poly -> accuracy:      61.09 %\n",
    "\n",
    "Best KNN model:         32 -> accuracy:      58.75 %\n",
    "\n",
    "Best MLP model:      (32,) -> accuracy:      59.92 %"
   ],
   "id": "d4b13d3ea222404"
  },
  {
   "metadata": {},
   "cell_type": "markdown",
   "source": "# 3. Testing",
   "id": "b0004e7cde27929a"
  },
  {
   "metadata": {
    "ExecuteTime": {
     "end_time": "2024-12-09T17:36:31.237544Z",
     "start_time": "2024-12-09T17:36:31.208545Z"
    }
   },
   "cell_type": "code",
   "source": [
    "def feeling(image, enable_aus=False, enable_emotion=False):\n",
    "    face = detector.detect_faces(image)\n",
    "\n",
    "    aus = None\n",
    "    emotion_str = None\n",
    "\n",
    "    if enable_emotion or enable_aus:\n",
    "        landmark = detector.detect_landmarks(image, face)\n",
    "        if enable_aus:\n",
    "            aus = detector.detect_aus(image, landmark)\n",
    "        if enable_emotion:\n",
    "            emotion_str = best_model_svc[0].predict(aus[0])[0]\n",
    "\n",
    "    for (i, face) in enumerate(face[0]):\n",
    "        f_hl = int(face[0])       # horizontal left\n",
    "        f_vt = int(face[1])       # vertical top\n",
    "        f_hr = int(face[2])       # horizontal right\n",
    "        f_vb = int(face[3])       # vertical bottom\n",
    "\n",
    "        if i == 0:\n",
    "            color = (0, 255, 0)\n",
    "        elif i == 1:\n",
    "            color = (255, 0, 0)\n",
    "        else:\n",
    "            color = (0, 0, 255)\n",
    "\n",
    "        thickness = 2\n",
    "        cv2.line(image,(f_hl, f_vt), (f_hr, f_vt), color, thickness)   # top left to top right\n",
    "        cv2.line(image,(f_hr, f_vt), (f_hr, f_vb), color, thickness)   # top right to bottom right\n",
    "        cv2.line(image,(f_hr, f_vb), (f_hl, f_vb), color, thickness)   # bottom right to bottom left\n",
    "        cv2.line(image,(f_hl, f_vb), (f_hl, f_vt), color, thickness)   # bottom left to top right\n",
    "\n",
    "        if enable_emotion:\n",
    "            cv2.putText(image, emotion_str, (f_hl, f_vt-10), cv2.FONT_HERSHEY_SIMPLEX, 1, color)\n",
    "\n",
    "    return image, aus, emotion"
   ],
   "id": "73381e4b58ddb233",
   "outputs": [],
   "execution_count": 11
  },
  {
   "metadata": {
    "ExecuteTime": {
     "end_time": "2024-12-09T17:39:27.826524Z",
     "start_time": "2024-12-09T17:38:27.404928Z"
    }
   },
   "cell_type": "code",
   "source": [
    "cam = cv2.VideoCapture(0)\n",
    "counter = 0\n",
    "\n",
    "while True:\n",
    "    # check = True means we managed to get a frame.\n",
    "    # If check = False, the device is not available, and we should quit.\n",
    "    check, frame = cam.read()\n",
    "    if not check:\n",
    "        break\n",
    "\n",
    "    #new_frame, aus, emotion = feeling(frame, True, True)\n",
    "\n",
    "    # OpenCV uses a separate window to display output.\n",
    "    jcv2.imshow(\"video\", frame)\n",
    "\n",
    "    # Press ESC to exit.\n",
    "    key = jcv2.waitKey(1) & 0xFF\n",
    "    if key == 27:\n",
    "        break\n",
    "\n",
    "cam.release()\n",
    "jcv2.destroyAllWindows()"
   ],
   "id": "3ec507bcb4d410bb",
   "outputs": [
    {
     "data": {
      "text/plain": [
       "HBox(children=(Button(button_style='danger', description='Stop', style=ButtonStyle()), HBox(children=(Label(va…"
      ],
      "application/vnd.jupyter.widget-view+json": {
       "version_major": 2,
       "version_minor": 0,
       "model_id": "e88665d6d09041acbd0bf226f8f700cb"
      }
     },
     "metadata": {},
     "output_type": "display_data"
    },
    {
     "data": {
      "text/plain": [
       "HBox(children=(Button(button_style='danger', description='Stop', style=ButtonStyle()), HBox(children=(Label(va…"
      ],
      "application/vnd.jupyter.widget-view+json": {
       "version_major": 2,
       "version_minor": 0,
       "model_id": "66904b590e2c4e19926b9f4976b7239b"
      }
     },
     "metadata": {},
     "output_type": "display_data"
    },
    {
     "data": {
      "text/plain": [
       "VBox(children=(HTML(value='<center>video</center>'), Canvas()), layout=Layout(border_bottom='1.5px solid', bor…"
      ],
      "application/vnd.jupyter.widget-view+json": {
       "version_major": 2,
       "version_minor": 0,
       "model_id": "b80cfe0e0d4245048dc8fad391d51823"
      }
     },
     "metadata": {},
     "output_type": "display_data"
    }
   ],
   "execution_count": 14
  }
 ],
 "metadata": {
  "kernelspec": {
   "display_name": "Python 3",
   "language": "python",
   "name": "python3"
  },
  "language_info": {
   "codemirror_mode": {
    "name": "ipython",
    "version": 2
   },
   "file_extension": ".py",
   "mimetype": "text/x-python",
   "name": "python",
   "nbconvert_exporter": "python",
   "pygments_lexer": "ipython2",
   "version": "2.7.6"
  }
 },
 "nbformat": 4,
 "nbformat_minor": 5
}
