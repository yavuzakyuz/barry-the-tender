{
 "cells": [
  {
   "metadata": {
    "ExecuteTime": {
     "end_time": "2024-12-09T15:36:04.261791Z",
     "start_time": "2024-12-09T15:36:01.645187Z"
    }
   },
   "cell_type": "code",
   "source": [
    "import cv2\n",
    "import opencv_jupyter_ui as jcv2\n",
    "import torch\n",
    "from feat import Detector\n",
    "from sklearn.svm import SVC\n",
    "import pickle\n",
    "\n",
    "import logging, sys\n",
    "logging.disable(sys.maxsize)\n",
    "\n",
    "detector = Detector(device='cuda' if torch.cuda.is_available() else 'cpu')"
   ],
   "id": "c756150a99b72290",
   "outputs": [
    {
     "name": "stderr",
     "output_type": "stream",
     "text": [
      "/home/mscharf/.pyenv/versions/iis/lib/python3.12/site-packages/feat/face_detectors/Retinaface/Retinaface_test.py:70: FutureWarning: You are using `torch.load` with `weights_only=False` (the current default value), which uses the default pickle module implicitly. It is possible to construct malicious pickle data which will execute arbitrary code during unpickling (See https://github.com/pytorch/pytorch/blob/main/SECURITY.md#untrusted-models for more details). In a future release, the default value for `weights_only` will be flipped to `True`. This limits the functions that could be executed during unpickling. Arbitrary objects will no longer be allowed to be loaded via this mode unless they are explicitly allowlisted by the user via `torch.serialization.add_safe_globals`. We recommend you start setting `weights_only=True` for any use case where you don't have full control of the loaded file. Please open an issue on GitHub for any issues related to this experimental feature.\n",
      "  pretrained_dict = torch.load(\n",
      "/home/mscharf/.pyenv/versions/iis/lib/python3.12/site-packages/feat/detector.py:238: FutureWarning: You are using `torch.load` with `weights_only=False` (the current default value), which uses the default pickle module implicitly. It is possible to construct malicious pickle data which will execute arbitrary code during unpickling (See https://github.com/pytorch/pytorch/blob/main/SECURITY.md#untrusted-models for more details). In a future release, the default value for `weights_only` will be flipped to `True`. This limits the functions that could be executed during unpickling. Arbitrary objects will no longer be allowed to be loaded via this mode unless they are explicitly allowlisted by the user via `torch.serialization.add_safe_globals`. We recommend you start setting `weights_only=True` for any use case where you don't have full control of the loaded file. Please open an issue on GitHub for any issues related to this experimental feature.\n",
      "  checkpoint = torch.load(\n",
      "/home/mscharf/.pyenv/versions/iis/lib/python3.12/site-packages/feat/facepose_detectors/img2pose/img2pose_test.py:105: FutureWarning: You are using `torch.load` with `weights_only=False` (the current default value), which uses the default pickle module implicitly. It is possible to construct malicious pickle data which will execute arbitrary code during unpickling (See https://github.com/pytorch/pytorch/blob/main/SECURITY.md#untrusted-models for more details). In a future release, the default value for `weights_only` will be flipped to `True`. This limits the functions that could be executed during unpickling. Arbitrary objects will no longer be allowed to be loaded via this mode unless they are explicitly allowlisted by the user via `torch.serialization.add_safe_globals`. We recommend you start setting `weights_only=True` for any use case where you don't have full control of the loaded file. Please open an issue on GitHub for any issues related to this experimental feature.\n",
      "  checkpoint = torch.load(model_path, map_location=self.device)\n",
      "/home/mscharf/.pyenv/versions/iis/lib/python3.12/site-packages/feat/emo_detectors/ResMaskNet/resmasknet_test.py:718: FutureWarning: You are using `torch.load` with `weights_only=False` (the current default value), which uses the default pickle module implicitly. It is possible to construct malicious pickle data which will execute arbitrary code during unpickling (See https://github.com/pytorch/pytorch/blob/main/SECURITY.md#untrusted-models for more details). In a future release, the default value for `weights_only` will be flipped to `True`. This limits the functions that could be executed during unpickling. Arbitrary objects will no longer be allowed to be loaded via this mode unless they are explicitly allowlisted by the user via `torch.serialization.add_safe_globals`. We recommend you start setting `weights_only=True` for any use case where you don't have full control of the loaded file. Please open an issue on GitHub for any issues related to this experimental feature.\n",
      "  torch.load(\n",
      "/home/mscharf/.pyenv/versions/iis/lib/python3.12/site-packages/feat/identity_detectors/facenet/facenet_model.py:275: FutureWarning: You are using `torch.load` with `weights_only=False` (the current default value), which uses the default pickle module implicitly. It is possible to construct malicious pickle data which will execute arbitrary code during unpickling (See https://github.com/pytorch/pytorch/blob/main/SECURITY.md#untrusted-models for more details). In a future release, the default value for `weights_only` will be flipped to `True`. This limits the functions that could be executed during unpickling. Arbitrary objects will no longer be allowed to be loaded via this mode unless they are explicitly allowlisted by the user via `torch.serialization.add_safe_globals`. We recommend you start setting `weights_only=True` for any use case where you don't have full control of the loaded file. Please open an issue on GitHub for any issues related to this experimental feature.\n",
      "  torch.load(\n"
     ]
    }
   ],
   "execution_count": 21
  },
  {
   "metadata": {
    "ExecuteTime": {
     "end_time": "2024-12-09T15:36:04.285479Z",
     "start_time": "2024-12-09T15:36:04.278045Z"
    }
   },
   "cell_type": "code",
   "source": [
    "emotion = {\n",
    "    \"angry\": 0,\n",
    "    \"disgust\": 1,\n",
    "    \"fear\": 2,\n",
    "    \"happy\": 3,\n",
    "    \"sad\": 4,\n",
    "    \"surprise\": 5,\n",
    "    \"neutral\": 6\n",
    "}"
   ],
   "id": "7a3110737a893491",
   "outputs": [],
   "execution_count": 22
  },
  {
   "metadata": {
    "ExecuteTime": {
     "end_time": "2024-12-09T15:39:30.625998Z",
     "start_time": "2024-12-09T15:39:30.620255Z"
    }
   },
   "cell_type": "code",
   "source": [
    "model = None\n",
    "with open('model_svc.pkl', 'rb') as f:\n",
    "    model = pickle.load(f)"
   ],
   "id": "22b63621ca2c2b55",
   "outputs": [],
   "execution_count": 43
  },
  {
   "metadata": {
    "ExecuteTime": {
     "end_time": "2024-12-09T15:36:04.389185Z",
     "start_time": "2024-12-09T15:36:04.380608Z"
    }
   },
   "cell_type": "code",
   "source": [
    "def feeling(image, enable_aus=False, enable_emotion=False):\n",
    "    face = detector.detect_faces(image)\n",
    "\n",
    "    aus = None\n",
    "    emotion_str = None\n",
    "\n",
    "    if enable_emotion or enable_aus:\n",
    "        landmark = detector.detect_landmarks(image, face)\n",
    "        if enable_aus:\n",
    "            aus = detector.detect_aus(image, landmark)\n",
    "        if enable_emotion:\n",
    "            emotion_str = model.predict(aus[0])[0]\n",
    "\n",
    "    for (i, face) in enumerate(face[0]):\n",
    "        f_hl = int(face[0])       # horizontal left\n",
    "        f_vt = int(face[1])       # vertical top\n",
    "        f_hr = int(face[2])       # horizontal right\n",
    "        f_vb = int(face[3])       # vertical bottom\n",
    "\n",
    "        if i == 0:\n",
    "            color = (0, 255, 0)\n",
    "        elif i == 1:\n",
    "            color = (255, 0, 0)\n",
    "        else:\n",
    "            color = (0, 0, 255)\n",
    "\n",
    "        thickness = 2\n",
    "        cv2.line(image,(f_hl, f_vt), (f_hr, f_vt), color, thickness)   # top left to top right\n",
    "        cv2.line(image,(f_hr, f_vt), (f_hr, f_vb), color, thickness)   # top right to bottom right\n",
    "        cv2.line(image,(f_hr, f_vb), (f_hl, f_vb), color, thickness)   # bottom right to bottom left\n",
    "        cv2.line(image,(f_hl, f_vb), (f_hl, f_vt), color, thickness)   # bottom left to top right\n",
    "\n",
    "        if enable_emotion:\n",
    "            cv2.putText(image, emotion_str, (f_hl, f_vt-10), cv2.FONT_HERSHEY_SIMPLEX, 1, color)\n",
    "\n",
    "    return image, aus, emotion"
   ],
   "id": "27de859c9ce11532",
   "outputs": [],
   "execution_count": 24
  },
  {
   "metadata": {
    "ExecuteTime": {
     "end_time": "2024-12-09T16:01:40.271906Z",
     "start_time": "2024-12-09T16:01:40.251515Z"
    }
   },
   "cell_type": "code",
   "source": [
    "cam = cv2.VideoCapture(0)\n",
    "counter = 0\n",
    "\n",
    "while True:\n",
    "    # check = True means we managed to get a frame.\n",
    "    # If check = False, the device is not available, and we should quit.\n",
    "    check, frame = cam.read()\n",
    "    if not check:\n",
    "        break\n",
    "\n",
    "    new_frame, aus, emotion = feeling(frame, False, False)\n",
    "\n",
    "    # OpenCV uses a separate window to display output.\n",
    "    jcv2.imshow(\"video\", new_frame)\n",
    "\n",
    "    # Press ESC to exit.\n",
    "    key = jcv2.waitKey(1) & 0xFF\n",
    "    if key == 27:\n",
    "        break\n",
    "\n",
    "cam.release()\n",
    "jcv2.destroyAllWindows()"
   ],
   "id": "e39644a71aaa966e",
   "outputs": [
    {
     "name": "stderr",
     "output_type": "stream",
     "text": [
      "[ WARN:0@1708.421] global cap_v4l.cpp:999 open VIDEOIO(V4L2:/dev/video0): can't open camera by index\n",
      "[ERROR:0@1708.421] global obsensor_uvc_stream_channel.cpp:158 getStreamChannelGroup Camera index out of range\n"
     ]
    },
    {
     "data": {
      "text/plain": [
       "HBox(children=(Button(button_style='danger', description='Stop', style=ButtonStyle()), HBox(children=(Label(va…"
      ],
      "application/vnd.jupyter.widget-view+json": {
       "version_major": 2,
       "version_minor": 0,
       "model_id": "766b286e66414f9b8d9604e00516146f"
      }
     },
     "metadata": {},
     "output_type": "display_data"
    }
   ],
   "execution_count": 45
  },
  {
   "metadata": {
    "ExecuteTime": {
     "end_time": "2024-12-09T15:39:22.712275Z",
     "start_time": "2024-12-09T15:39:22.707265Z"
    }
   },
   "cell_type": "code",
   "source": "type(model)",
   "id": "ec542dec70d32094",
   "outputs": [
    {
     "data": {
      "text/plain": [
       "sklearn.svm._classes.SVC"
      ]
     },
     "execution_count": 42,
     "metadata": {},
     "output_type": "execute_result"
    }
   ],
   "execution_count": 42
  }
 ],
 "metadata": {
  "kernelspec": {
   "display_name": "Python 3",
   "language": "python",
   "name": "python3"
  },
  "language_info": {
   "codemirror_mode": {
    "name": "ipython",
    "version": 2
   },
   "file_extension": ".py",
   "mimetype": "text/x-python",
   "name": "python",
   "nbconvert_exporter": "python",
   "pygments_lexer": "ipython2",
   "version": "2.7.6"
  }
 },
 "nbformat": 4,
 "nbformat_minor": 5
}
