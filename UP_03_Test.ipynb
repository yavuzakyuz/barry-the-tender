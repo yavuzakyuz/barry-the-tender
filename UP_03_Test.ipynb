{
 "cells": [
  {
   "metadata": {},
   "cell_type": "code",
   "source": [
    "import cv2\n",
    "import opencv_jupyter_ui as jcv2\n",
    "import torch\n",
    "from feat import Detector\n",
    "from sklearn.svm import SVC\n",
    "import pickle\n",
    "\n",
    "import logging, sys\n",
    "logging.disable(sys.maxsize)\n",
    "\n",
    "detector = Detector(device='cuda' if torch.cuda.is_available() else 'cpu')"
   ],
   "id": "c756150a99b72290",
   "outputs": [],
   "execution_count": null
  },
  {
   "metadata": {},
   "cell_type": "code",
   "source": [
    "emotion = {\n",
    "    \"angry\": 0,\n",
    "    \"disgust\": 1,\n",
    "    \"fear\": 2,\n",
    "    \"happy\": 3,\n",
    "    \"sad\": 4,\n",
    "    \"surprise\": 5,\n",
    "    \"neutral\": 6\n",
    "}"
   ],
   "id": "7a3110737a893491",
   "outputs": [],
   "execution_count": null
  },
  {
   "metadata": {},
   "cell_type": "code",
   "source": [
    "with open('model_svc.pkl', 'rb') as f:\n",
    "    model = pickle.load(f)"
   ],
   "id": "22b63621ca2c2b55",
   "outputs": [],
   "execution_count": null
  },
  {
   "metadata": {},
   "cell_type": "code",
   "source": [
    "def feeling(image, enable_aus=False, enable_emotion=False):\n",
    "    face = detector.detect_faces(image)\n",
    "\n",
    "    aus = None\n",
    "    emotion_str = None\n",
    "\n",
    "    if enable_emotion or enable_aus:\n",
    "        landmark = detector.detect_landmarks(image, face)\n",
    "        if enable_aus:\n",
    "            aus = detector.detect_aus(image, landmark)\n",
    "        if enable_emotion:\n",
    "            emotion_str = model.predict(aus[0])[0]\n",
    "\n",
    "    for (i, face) in enumerate(face[0]):\n",
    "        f_hl = int(face[0])       # horizontal left\n",
    "        f_vt = int(face[1])       # vertical top\n",
    "        f_hr = int(face[2])       # horizontal right\n",
    "        f_vb = int(face[3])       # vertical bottom\n",
    "\n",
    "        if i == 0:\n",
    "            color = (0, 255, 0)\n",
    "        elif i == 1:\n",
    "            color = (255, 0, 0)\n",
    "        else:\n",
    "            color = (0, 0, 255)\n",
    "\n",
    "        thickness = 2\n",
    "        cv2.line(image,(f_hl, f_vt), (f_hr, f_vt), color, thickness)   # top left to top right\n",
    "        cv2.line(image,(f_hr, f_vt), (f_hr, f_vb), color, thickness)   # top right to bottom right\n",
    "        cv2.line(image,(f_hr, f_vb), (f_hl, f_vb), color, thickness)   # bottom right to bottom left\n",
    "        cv2.line(image,(f_hl, f_vb), (f_hl, f_vt), color, thickness)   # bottom left to top right\n",
    "\n",
    "        if enable_emotion:\n",
    "            cv2.putText(image, emotion_str, (f_hl, f_vt-10), cv2.FONT_HERSHEY_SIMPLEX, 1, color)\n",
    "\n",
    "    return image, aus, emotion"
   ],
   "id": "27de859c9ce11532",
   "outputs": [],
   "execution_count": null
  },
  {
   "metadata": {},
   "cell_type": "code",
   "source": [
    "cam = cv2.VideoCapture(0)\n",
    "counter = 0\n",
    "\n",
    "while True:\n",
    "    # check = True means we managed to get a frame.\n",
    "    # If check = False, the device is not available, and we should quit.\n",
    "    check, frame = cam.read()\n",
    "    if not check:\n",
    "        break\n",
    "\n",
    "    new_frame, aus, emotion = feeling(frame, False, False)\n",
    "\n",
    "    # OpenCV uses a separate window to display output.\n",
    "    jcv2.imshow(\"video\", new_frame)\n",
    "\n",
    "    # Press ESC to exit.\n",
    "    key = jcv2.waitKey(1) & 0xFF\n",
    "    if key == 27:\n",
    "        break\n",
    "\n",
    "cam.release()\n",
    "jcv2.destroyAllWindows()"
   ],
   "id": "e39644a71aaa966e",
   "outputs": [],
   "execution_count": null
  },
  {
   "metadata": {},
   "cell_type": "code",
   "source": "type(model)",
   "id": "ec542dec70d32094",
   "outputs": [],
   "execution_count": null
  }
 ],
 "metadata": {
  "kernelspec": {
   "display_name": "Python 3",
   "language": "python",
   "name": "python3"
  },
  "language_info": {
   "codemirror_mode": {
    "name": "ipython",
    "version": 2
   },
   "file_extension": ".py",
   "mimetype": "text/x-python",
   "name": "python",
   "nbconvert_exporter": "python",
   "pygments_lexer": "ipython2",
   "version": "2.7.6"
  }
 },
 "nbformat": 4,
 "nbformat_minor": 5
}
