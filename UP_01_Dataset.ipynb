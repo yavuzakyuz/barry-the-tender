{
 "cells": [
  {
   "cell_type": "code",
   "id": "initial_id",
   "metadata": {
    "collapsed": true
   },
   "source": [
    "import cv2\n",
    "from feat import Detector\n",
    "import torch\n",
    "import os\n",
    "import pandas as pd\n",
    "\n",
    "import logging, sys\n",
    "logging.disable(sys.maxsize)"
   ],
   "outputs": [],
   "execution_count": null
  },
  {
   "metadata": {},
   "cell_type": "code",
   "source": "detector = Detector(device='cuda' if torch.cuda.is_available() else 'cpu')",
   "id": "3bd170791db3f4fc",
   "outputs": [],
   "execution_count": null
  },
  {
   "metadata": {},
   "cell_type": "code",
   "source": [
    "emotion = {\n",
    "    \"angry\": 0,\n",
    "    \"disgust\": 1,\n",
    "    \"fear\": 2,\n",
    "    \"happy\": 3,\n",
    "    \"sad\": 4,\n",
    "    \"surprise\": 5,\n",
    "    \"neutral\": 6\n",
    "}"
   ],
   "id": "8645bc61b5348f02",
   "outputs": [],
   "execution_count": null
  },
  {
   "metadata": {},
   "cell_type": "code",
   "source": [
    "class image_data:\n",
    "    def __init__(self, path:str, real_emotion:str):\n",
    "        self.path = path\n",
    "        self.name = os.path.basename(path)\n",
    "        self.image = cv2.imread(self.path)\n",
    "        self.face = detector.detect_faces(self.image)\n",
    "        self.landmark = detector.detect_landmarks(self.image, self.face)\n",
    "#        self.emotion = detector.detect_emotions(self.image, self.face, self.landmark)\n",
    "        self.au = detector.detect_aus(self.image, self.landmark)\n",
    "#        self.processed = self.image\n",
    "        self.real_emotion = real_emotion"
   ],
   "id": "d69783e6dc29c371",
   "outputs": [],
   "execution_count": null
  },
  {
   "metadata": {},
   "cell_type": "code",
   "source": [
    "# Dataset 1\n",
    "data = []\n",
    "for em in emotion:\n",
    "    path = os.path.join('./DiffusionFER/DiffusionEmotion_S/cropped/', em)\n",
    "\n",
    "    files = os.listdir(path)\n",
    "    files_abs = [os.path.abspath(os.path.join(path, file)) for file in files]\n",
    "    data.append([image_data(name, em) for name in files_abs])\n",
    "    print(f\"Dataset {em} loaded!\")"
   ],
   "id": "15f5c865d6cd1494",
   "outputs": [],
   "execution_count": null
  },
  {
   "metadata": {},
   "cell_type": "code",
   "source": [
    "# preparing the AUS data for storing\n",
    "csv_file = []\n",
    "csv_face = []\n",
    "csv_emotion = []\n",
    "csv_AUS = [\n",
    "    [], [], [], [], [], [], [], [], [], [],\n",
    "    [], [], [], [], [], [], [], [], [], []\n",
    "]\n",
    "au_numbers = [1, 2, 4, 5, 6, 7, 9, 10, 12, 14, 15, 17, 18, 20, 22, 23, 24, 25, 26, 27]\n",
    "\n",
    "for em in data:\n",
    "    for csv in em:\n",
    "        for (face, aus) in enumerate(csv.au[0]):\n",
    "            csv_file.append(csv.name)\n",
    "            csv_emotion.append(csv.real_emotion)\n",
    "            csv_face.append(face)\n",
    "            for (i, au) in enumerate(aus):\n",
    "                csv_AUS[i].append(au)\n",
    "\n",
    "csv_data = {\n",
    "    \"file\": csv_file,\n",
    "    \"emotion\": csv_emotion,\n",
    "    \"face\": csv_face,\n",
    "}\n",
    "aus_name = []\n",
    "for (i, au_entry) in zip(au_numbers, csv_AUS):\n",
    "    key = f\"AUS{i:02d}\"\n",
    "    aus_name.append(key)\n",
    "    csv_data[key] = au_entry"
   ],
   "id": "6b8ca41f8721d34b",
   "outputs": [],
   "execution_count": null
  },
  {
   "metadata": {},
   "cell_type": "code",
   "source": [
    "# writing the csv file\n",
    "df = pd.DataFrame(csv_data)\n",
    "df.to_csv('aus.csv', index=False, header=True, sep=',', encoding='utf-8')"
   ],
   "id": "35ebb5ec1ef874fa",
   "outputs": [],
   "execution_count": null
  }
 ],
 "metadata": {
  "kernelspec": {
   "display_name": "Python 3",
   "language": "python",
   "name": "python3"
  },
  "language_info": {
   "codemirror_mode": {
    "name": "ipython",
    "version": 2
   },
   "file_extension": ".py",
   "mimetype": "text/x-python",
   "name": "python",
   "nbconvert_exporter": "python",
   "pygments_lexer": "ipython2",
   "version": "2.7.6"
  }
 },
 "nbformat": 4,
 "nbformat_minor": 5
}
