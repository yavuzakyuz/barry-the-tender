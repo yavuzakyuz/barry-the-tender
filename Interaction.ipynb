{
 "cells": [
  {
   "metadata": {},
   "cell_type": "markdown",
   "source": "# An Interaction sub-system.",
   "id": "7dc1af4f63d278d1"
  },
  {
   "metadata": {},
   "cell_type": "markdown",
   "source": "This sub-system takes two inputs: the affective state produced by the User Perception sub-system, and the user’s speech (as you have seen in Lab 3). In response, it generates a socially adaptive behaviour by Furhat. Furhat’s behaviour should be a suitable response to the users’ affective state and the interaction context. This should be done by developing a rule-based system, where any of the Furhat behaviours learnt during Lab 3 are generated in response to the users’ affective state. You are free to design / develop the adaptive behaviours that you wish, but note that you are expected to implement a basic conversation between a human user and Furhat.",
   "id": "84d3e938e1deae07"
  },
  {
   "cell_type": "code",
   "id": "initial_id",
   "metadata": {
    "collapsed": true,
    "ExecuteTime": {
     "end_time": "2024-12-08T10:57:00.190161Z",
     "start_time": "2024-12-08T10:57:00.039315Z"
    }
   },
   "source": [
    "%load_ext autoreload\n",
    "%autoreload 2\n",
    "\n",
    "from furhat_remote_api import FurhatRemoteAPI\n",
    "from interaction_system.furhat_functions import start_conversation_params"
   ],
   "outputs": [],
   "execution_count": 1
  },
  {
   "metadata": {
    "ExecuteTime": {
     "end_time": "2024-12-08T10:57:00.253006Z",
     "start_time": "2024-12-08T10:57:00.196452Z"
    }
   },
   "cell_type": "code",
   "source": "furhat = FurhatRemoteAPI(\"localhost\")",
   "id": "4abb28de152a7e99",
   "outputs": [],
   "execution_count": 2
  },
  {
   "metadata": {
    "ExecuteTime": {
     "end_time": "2024-12-08T10:57:00.703513Z",
     "start_time": "2024-12-08T10:57:00.566037Z"
    }
   },
   "cell_type": "code",
   "source": [
    "\n",
    "starter_text, starter_gesture = start_conversation_params()\n",
    "\n",
    "furhat.gesture(body = starter_gesture)\n",
    "furhat.say(text = starter_text)"
   ],
   "id": "443d846c00fefa49",
   "outputs": [
    {
     "data": {
      "text/plain": [
       "{'message': 'Speaking from url', 'success': True}"
      ]
     },
     "execution_count": 3,
     "metadata": {},
     "output_type": "execute_result"
    }
   ],
   "execution_count": 3
  },
  {
   "metadata": {
    "ExecuteTime": {
     "end_time": "2024-12-08T10:57:00.829510Z",
     "start_time": "2024-12-08T10:57:00.810384Z"
    }
   },
   "cell_type": "code",
   "source": "",
   "id": "b196a1d4a54b7dac",
   "outputs": [],
   "execution_count": null
  }
 ],
 "metadata": {
  "kernelspec": {
   "display_name": "Python 3",
   "language": "python",
   "name": "python3"
  },
  "language_info": {
   "codemirror_mode": {
    "name": "ipython",
    "version": 2
   },
   "file_extension": ".py",
   "mimetype": "text/x-python",
   "name": "python",
   "nbconvert_exporter": "python",
   "pygments_lexer": "ipython2",
   "version": "2.7.6"
  }
 },
 "nbformat": 4,
 "nbformat_minor": 5
}
