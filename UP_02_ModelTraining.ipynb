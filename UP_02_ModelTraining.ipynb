{
 "cells": [
  {
   "cell_type": "code",
   "id": "initial_id",
   "metadata": {
    "collapsed": true,
    "ExecuteTime": {
     "end_time": "2024-12-09T15:32:26.403063Z",
     "start_time": "2024-12-09T15:32:25.069884Z"
    }
   },
   "source": [
    "from sklearn.model_selection import train_test_split\n",
    "from sklearn.svm import SVC\n",
    "from sklearn.metrics import accuracy_score\n",
    "import pandas as pd\n",
    "import pickle"
   ],
   "outputs": [],
   "execution_count": 1
  },
  {
   "metadata": {
    "ExecuteTime": {
     "end_time": "2024-12-09T15:32:26.424006Z",
     "start_time": "2024-12-09T15:32:26.418784Z"
    }
   },
   "cell_type": "code",
   "source": [
    "def train_and_eval(model, train_in, train_out, val_in, val_out):\n",
    "    model.fit(train_in, train_out)\n",
    "    predicted_val = model.predict(val_in)\n",
    "\n",
    "    # Evaluate model\n",
    "    return accuracy_score(val_out, predicted_val)"
   ],
   "id": "96854463b843681c",
   "outputs": [],
   "execution_count": 2
  },
  {
   "metadata": {
    "ExecuteTime": {
     "end_time": "2024-12-09T15:32:26.599385Z",
     "start_time": "2024-12-09T15:32:26.572026Z"
    }
   },
   "cell_type": "code",
   "source": [
    "data = pd.read_csv(\"aus.csv\")\n",
    "data = data.drop(\"file\", axis=1)\n",
    "data = data.drop(\"face\", axis=1)\n",
    "print(data)\n",
    "\n",
    "print(\"Unique classes\", data[\"emotion\"].unique(), \"\\n\")\n",
    "\n",
    "\n",
    "for class0 in data[\"emotion\"].unique():\n",
    "    print(f\"Found {(data['emotion'] == class0).value_counts().iloc[1]} samples for class {class0}\")\n",
    "\n",
    "labels = data[\"emotion\"]\n",
    "inputs = data.drop(\"emotion\", axis=1)"
   ],
   "id": "3429817858852602",
   "outputs": [
    {
     "name": "stdout",
     "output_type": "stream",
     "text": [
      "      emotion     AUS01     AUS02     AUS04     AUS05     AUS06  AUS07  \\\n",
      "0       angry  0.480870  0.221707  0.554721  0.341209  0.538130    1.0   \n",
      "1       angry  0.368920  0.193828  0.238290  0.269536  0.075385    0.0   \n",
      "2       angry  0.183939  0.150695  0.466302  0.274774  0.653131    1.0   \n",
      "3       angry  0.537044  0.418116  0.481464  0.438458  0.144407    0.0   \n",
      "4       angry  0.443417  0.432919  0.677055  0.334438  0.292933    0.0   \n",
      "...       ...       ...       ...       ...       ...       ...    ...   \n",
      "1280  neutral  0.532191  0.356289  0.667120  0.268087  0.183363    0.0   \n",
      "1281  neutral  0.391457  0.269737  0.255740  0.254209  0.467601    1.0   \n",
      "1282  neutral  0.315095  0.133612  0.501751  0.290585  0.489786    0.0   \n",
      "1283  neutral  0.311539  0.211948  0.174492  0.283762  0.273198    1.0   \n",
      "1284  neutral  0.417826  0.295563  0.422287  0.284784  0.207153    1.0   \n",
      "\n",
      "         AUS09     AUS10  AUS12  ...     AUS15     AUS17     AUS18  AUS20  \\\n",
      "0     0.537321  0.023429    0.0  ...  0.406401  0.140524  0.218493    1.0   \n",
      "1     0.262338  0.004279    1.0  ...  0.350709  0.188251  0.409465    0.0   \n",
      "2     0.630967  0.671980    1.0  ...  0.368121  0.468825  0.375855    1.0   \n",
      "3     0.371219  0.012467    0.0  ...  0.224992  0.260010  0.403900    0.0   \n",
      "4     0.417626  0.072513    0.0  ...  0.233493  0.305763  0.370906    1.0   \n",
      "...        ...       ...    ...  ...       ...       ...       ...    ...   \n",
      "1280  0.383144  0.062852    1.0  ...  0.431349  0.466445  0.368812    0.0   \n",
      "1281  0.555540  0.948187    1.0  ...  0.546964  0.207212  0.468196    0.0   \n",
      "1282  0.586251  0.007189    1.0  ...  0.310133  0.300780  0.443109    0.0   \n",
      "1283  0.314977  0.722951    1.0  ...  0.333568  0.575626  0.530533    0.0   \n",
      "1284  0.407616  0.845847    0.0  ...  0.249539  0.161755  0.436802    0.0   \n",
      "\n",
      "         AUS22     AUS23     AUS24     AUS25     AUS26     AUS27  \n",
      "0     0.459626  0.023246  0.997896  0.326979  0.050575  0.323358  \n",
      "1     0.312356  0.202418  0.110333  0.077836  0.065766  0.124806  \n",
      "2     0.378847  0.471499  0.988207  0.550548  0.018353  0.548190  \n",
      "3     0.596797  0.231718  0.688821  0.145960  0.571579  0.218896  \n",
      "4     0.559862  0.285304  0.879467  0.089313  0.210681  0.375842  \n",
      "...        ...       ...       ...       ...       ...       ...  \n",
      "1280  0.319030  0.372964  0.376775  0.208692  0.450813  0.511936  \n",
      "1281  0.634832  0.697788  0.006877  0.221563  0.530447  0.269997  \n",
      "1282  0.277499  0.456451  0.391197  0.034541  0.120995  0.151804  \n",
      "1283  0.313630  0.495963  0.245356  0.125659  0.125381  0.393924  \n",
      "1284  0.544835  0.435941  0.983305  0.409482  0.393165  0.205866  \n",
      "\n",
      "[1285 rows x 21 columns]\n",
      "Unique classes ['angry' 'disgust' 'fear' 'happy' 'sad' 'surprise' 'neutral'] \n",
      "\n",
      "Found 177 samples for class angry\n",
      "Found 88 samples for class disgust\n",
      "Found 71 samples for class fear\n",
      "Found 339 samples for class happy\n",
      "Found 81 samples for class sad\n",
      "Found 182 samples for class surprise\n",
      "Found 347 samples for class neutral\n"
     ]
    }
   ],
   "execution_count": 3
  },
  {
   "metadata": {
    "ExecuteTime": {
     "end_time": "2024-12-09T15:32:26.670058Z",
     "start_time": "2024-12-09T15:32:26.654596Z"
    }
   },
   "cell_type": "code",
   "source": [
    "data_in, test_in, data_out, test_out = train_test_split(\n",
    "    inputs,\n",
    "    labels,\n",
    "    test_size=0.1,\n",
    "    random_state=42,\n",
    "    stratify=labels  # balances labels across the sets\n",
    ")\n",
    "train_in, val_in, train_out, val_out = train_test_split(\n",
    "    data_in,\n",
    "    data_out,\n",
    "    test_size=(0.2/0.9),  # 20% of the original data\n",
    "    random_state=42,\n",
    "    stratify=data_out\n",
    ")"
   ],
   "id": "4e686907bdfd5882",
   "outputs": [],
   "execution_count": 4
  },
  {
   "metadata": {
    "ExecuteTime": {
     "end_time": "2024-12-09T15:32:26.936794Z",
     "start_time": "2024-12-09T15:32:26.769305Z"
    }
   },
   "cell_type": "code",
   "source": [
    "kernels = ['linear', 'poly', 'rbf', 'sigmoid']\n",
    "\n",
    "model_svc = []\n",
    "best_model_svc = None\n",
    "for (index, kernel) in enumerate(kernels):\n",
    "    model_svc.append(SVC(kernel=kernel))\n",
    "    accuracy = train_and_eval(model_svc[index], train_in, train_out, val_in, val_out)\n",
    "    print(\"accuracy for index %2d, kernel = %10s: %.4f\" % (index, kernel, accuracy))\n",
    "    if best_model_svc is None or accuracy > best_model_svc[1]:\n",
    "        best_model_svc = (model_svc[index], accuracy)"
   ],
   "id": "774f78c36bba9099",
   "outputs": [
    {
     "name": "stdout",
     "output_type": "stream",
     "text": [
      "accuracy for index  0, kernel =     linear: 0.5759\n",
      "accuracy for index  1, kernel =       poly: 0.6109\n",
      "accuracy for index  2, kernel =        rbf: 0.6031\n",
      "accuracy for index  3, kernel =    sigmoid: 0.1673\n"
     ]
    }
   ],
   "execution_count": 5
  },
  {
   "metadata": {
    "ExecuteTime": {
     "end_time": "2024-12-09T15:34:39.921709Z",
     "start_time": "2024-12-09T15:34:39.914491Z"
    }
   },
   "cell_type": "code",
   "source": [
    "with open('model_svc.pkl', 'wb') as f:\n",
    "    pickle.dump(best_model_svc[0], f)"
   ],
   "id": "53c075e2f466e668",
   "outputs": [],
   "execution_count": 7
  }
 ],
 "metadata": {
  "kernelspec": {
   "display_name": "Python 3",
   "language": "python",
   "name": "python3"
  },
  "language_info": {
   "codemirror_mode": {
    "name": "ipython",
    "version": 2
   },
   "file_extension": ".py",
   "mimetype": "text/x-python",
   "name": "python",
   "nbconvert_exporter": "python",
   "pygments_lexer": "ipython2",
   "version": "2.7.6"
  }
 },
 "nbformat": 4,
 "nbformat_minor": 5
}
