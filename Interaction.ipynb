{
 "cells": [
  {
   "metadata": {},
   "cell_type": "markdown",
   "source": "# An Interaction sub-system.",
   "id": "7dc1af4f63d278d1"
  },
  {
   "metadata": {},
   "cell_type": "markdown",
   "source": "This sub-system takes two inputs: the affective state produced by the User Perception sub-system, and the user’s speech (as you have seen in Lab 3). In response, it generates a socially adaptive behaviour by Furhat. Furhat’s behaviour should be a suitable response to the users’ affective state and the interaction context. This should be done by developing a rule-based system, where any of the Furhat behaviours learnt during Lab 3 are generated in response to the users’ affective state. You are free to design / develop the adaptive behaviours that you wish, but note that you are expected to implement a basic conversation between a human user and Furhat.",
   "id": "84d3e938e1deae07"
  },
  {
   "cell_type": "code",
   "id": "initial_id",
   "metadata": {
    "collapsed": true
   },
   "source": "from furhat_remote_api import FurhatRemoteAPI",
   "outputs": [],
   "execution_count": null
  },
  {
   "metadata": {},
   "cell_type": "code",
   "source": "furhat = FurhatRemoteAPI(\"localhost\")",
   "id": "4abb28de152a7e99",
   "outputs": [],
   "execution_count": null
  },
  {
   "metadata": {},
   "cell_type": "code",
   "source": "furhat.say(text=\"Hello World\")",
   "id": "aee47bc855a245ea",
   "outputs": [],
   "execution_count": null
  },
  {
   "metadata": {},
   "cell_type": "code",
   "source": [
    "# gesture skeleton\n",
    "furhat.gesture(body={\n",
    "    \"frames\": [\n",
    "        {\n",
    "            \"time\": [\n",
    "                1.5\n",
    "            ],\n",
    "            \"params\": {\n",
    "                \"SMILE_OPEN\": 1.0,\n",
    "                \"BROW_DOWN_RIGHT\": 1.0,\n",
    "                \"BROW_UP_LEFT\": 1.0\n",
    "            }\n",
    "        },\n",
    "        {\n",
    "            \"time\": [\n",
    "                5.1\n",
    "            ],\n",
    "            \"params\": {\n",
    "                \"reset\": True\n",
    "            }\n",
    "        }\n",
    "    ],\n",
    "    \"class\": \"furhatos.gestures.Gesture\"\n",
    "})"
   ],
   "id": "976219604dd5f8a5",
   "outputs": [],
   "execution_count": null
  },
  {
   "metadata": {},
   "cell_type": "code",
   "source": "",
   "id": "443d846c00fefa49",
   "outputs": [],
   "execution_count": null
  }
 ],
 "metadata": {
  "kernelspec": {
   "display_name": "Python 3",
   "language": "python",
   "name": "python3"
  },
  "language_info": {
   "codemirror_mode": {
    "name": "ipython",
    "version": 2
   },
   "file_extension": ".py",
   "mimetype": "text/x-python",
   "name": "python",
   "nbconvert_exporter": "python",
   "pygments_lexer": "ipython2",
   "version": "2.7.6"
  }
 },
 "nbformat": 4,
 "nbformat_minor": 5
}
